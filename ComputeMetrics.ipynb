{
 "cells": [
  {
   "cell_type": "code",
   "execution_count": 116,
   "id": "ff60afc7-8e7c-4d40-9ac3-377f2d1838ec",
   "metadata": {
    "tags": []
   },
   "outputs": [],
   "source": [
    "import numpy as np\n",
    "import matplotlib.pyplot as plt\n",
    "\n",
    "import torch\n",
    "import torch.nn as nn\n",
    "import torch.nn.functional as F\n",
    "\n",
    "import pickle\n",
    "import json\n",
    "from tqdm import tqdm\n",
    "import os, subprocess\n",
    "import h5py\n",
    "import random\n",
    "import collections\n",
    "import time"
   ]
  },
  {
   "cell_type": "code",
   "execution_count": 117,
   "id": "bb584b05-16d2-49a7-9514-4ad3c1e713fe",
   "metadata": {
    "tags": []
   },
   "outputs": [],
   "source": [
    "from importlib import reload"
   ]
  },
  {
   "cell_type": "code",
   "execution_count": 118,
   "id": "fa97907d-7424-4ce8-90b6-bb0a8d0ab39f",
   "metadata": {
    "tags": []
   },
   "outputs": [],
   "source": [
    "import pandas as pd\n",
    "from scipy.stats import pearsonr"
   ]
  },
  {
   "cell_type": "code",
   "execution_count": 119,
   "id": "271d21df-1880-43bf-b730-1ab4dc7e9ea6",
   "metadata": {
    "tags": []
   },
   "outputs": [],
   "source": [
    "from sklearn.linear_model import LogisticRegression, LinearRegression\n",
    "from sklearn.model_selection import StratifiedKFold\n",
    "from sklearn import svm\n",
    "from sklearn.svm import SVC\n",
    "from sklearn.preprocessing import StandardScaler\n",
    "from sklearn.decomposition import PCA"
   ]
  },
  {
   "cell_type": "code",
   "execution_count": 120,
   "id": "843785e8-95cf-4f78-a8f4-2b9191d8dd33",
   "metadata": {
    "tags": []
   },
   "outputs": [],
   "source": [
    "import rsatoolbox"
   ]
  },
  {
   "cell_type": "code",
   "execution_count": 121,
   "id": "8330332c-6577-4bee-8c42-5be4e6d9b885",
   "metadata": {
    "tags": []
   },
   "outputs": [],
   "source": [
    "np.random.seed(7)\n",
    "torch.manual_seed(7)\n",
    "random.seed(7)"
   ]
  },
  {
   "cell_type": "code",
   "execution_count": 122,
   "id": "f9b84007-5808-4132-8ece-184aeef373fa",
   "metadata": {
    "tags": []
   },
   "outputs": [],
   "source": [
    "from domainbed import hparams_registry\n",
    "from domainbed import algorithms\n",
    "from domainbed.lib import misc"
   ]
  },
  {
   "cell_type": "code",
   "execution_count": 123,
   "id": "e6ea2de5-2e4e-42d2-9bbd-14bb5792803d",
   "metadata": {
    "tags": []
   },
   "outputs": [],
   "source": [
    "os.environ[\"CUDA_VISIBLE_DEVICES\"] = \"0\""
   ]
  },
  {
   "cell_type": "code",
   "execution_count": 124,
   "id": "d67b1c01-1960-46a0-8339-04f26f66750e",
   "metadata": {
    "tags": []
   },
   "outputs": [],
   "source": [
    "import utils\n",
    "import metrics"
   ]
  },
  {
   "cell_type": "code",
   "execution_count": 125,
   "id": "62be5337-541c-4189-9620-aeb7d4ceb909",
   "metadata": {
    "tags": []
   },
   "outputs": [],
   "source": [
    "# SceneCOCO, ColorObject\n",
    "# args = utils.load_param(\"ColorObject\")\n",
    "args = utils.load_param(\"SceneCOCO\")"
   ]
  },
  {
   "cell_type": "markdown",
   "id": "c2ea655a-e385-4374-9524-674b54e43728",
   "metadata": {
    "tags": []
   },
   "source": [
    "# calc test acc"
   ]
  },
  {
   "cell_type": "code",
   "execution_count": 33,
   "id": "f0fa9622-04ab-4319-9f47-6d3b62fb32ae",
   "metadata": {
    "tags": []
   },
   "outputs": [
    {
     "name": "stdout",
     "output_type": "stream",
     "text": [
      "loaded saved_dict_ColorObject_Final.pkl\n"
     ]
    }
   ],
   "source": [
    "#  read stuff\n",
    "_path = f'saved_dict_{args.dataset}.pkl'\n",
    "with open(_path, 'rb') as f:\n",
    "    saved_dict = pickle.load(f)\n",
    "    print(f\"loaded {_path}\")"
   ]
  },
  {
   "cell_type": "code",
   "execution_count": 12,
   "id": "ec1892e5-7c7a-4545-87c7-e8e95264817f",
   "metadata": {
    "tags": []
   },
   "outputs": [],
   "source": [
    "eval_names = ['test_id_0', 'test_id_1',\n",
    "              'test_ood1_0.0', 'test_ood1_0.15', 'test_ood1_0.3',\n",
    "              'test_ood1_0.45', 'test_ood1_0.6',\n",
    "              'test_ood2_level1', 'test_ood2_level2', 'test_ood2_level3',\n",
    "              'test_ood2_level4', 'test_ood2_level5']"
   ]
  },
  {
   "cell_type": "code",
   "execution_count": null,
   "id": "2f3e39ee-5cc3-42ba-b10a-f278b710d3fd",
   "metadata": {
    "tags": []
   },
   "outputs": [],
   "source": [
    "## all baselines - ColorObject & SceneObject\n",
    "args.use_two_labels = False\n",
    "args.use_mask = False\n",
    "seed_list = [0, 7, 77, 8, 88,\n",
    "            1, 777, 7777, 888, 8888]\n",
    "\n",
    "for _algo in [\"ERM\", \"IRM\", \"VREx\", \"GroupDRO\", \"Fish\", \"MLDG\"]:\n",
    "    for _seed in seed_list:\n",
    "        args.algorithm = _algo\n",
    "        args.trial_seed = _seed\n",
    "        _exp_name=f\"{args.bias}_{args.algorithm}_seed{args.trial_seed}\"\n",
    "        args.exp_name = _exp_name\n",
    "        saved_dict = utils.run_test(args, eval_names, saved_dict)"
   ]
  },
  {
   "cell_type": "code",
   "execution_count": null,
   "id": "4c577cb1-9ebe-47e8-a73a-2a5c0b457625",
   "metadata": {},
   "outputs": [],
   "source": [
    "## augmentation - fgRandom+bgOnly - 3 weights mixed\n",
    "args.aug_fg = True\n",
    "args.aug_bg = True\n",
    "args.use_two_labels = True\n",
    "args.use_mask = True\n",
    "args.algorithm = \"ERM_augmentation\"\n",
    "\n",
    "seed_list = [0, 7, 77, 8, 88,\n",
    "            1, 777, 7777, 888, 8888]\n",
    "mix_rate_list = [0.0, 0.1, 0.2, 0.3, 0.4, 0.5]\n",
    "for _mix_rate_fg in mix_rate_list:\n",
    "    _mix_rate_bg = 0.5 - mix_rate_list\n",
    "    for _seed in seed_list:\n",
    "        args.trial_seed = _seed\n",
    "        \n",
    "        _exp_name = f\"{args.bias}_ERM_augmentation_fgRandom{_mix_rate_fg}_bgOnly{_mix_rate_bg}_seed{args.trial_seed}\"\n",
    "        args.exp_name = _exp_name\n",
    "        saved_dict = utils.run_test(args, eval_names, saved_dict)"
   ]
  },
  {
   "cell_type": "code",
   "execution_count": 23,
   "id": "933dab94-0db5-4aca-a2b4-52742e9eb98a",
   "metadata": {
    "tags": []
   },
   "outputs": [
    {
     "data": {
      "text/plain": [
       "221"
      ]
     },
     "execution_count": 23,
     "metadata": {},
     "output_type": "execute_result"
    }
   ],
   "source": [
    "len(saved_dict)"
   ]
  },
  {
   "cell_type": "code",
   "execution_count": 15,
   "id": "9961e153-9bfd-4a41-be25-995c9ba49c91",
   "metadata": {
    "tags": []
   },
   "outputs": [],
   "source": [
    "# save stuff\n",
    "with open(f'saved_dict_{args.dataset}.pkl', 'wb') as f:\n",
    "    pickle.dump(saved_dict, f)"
   ]
  },
  {
   "cell_type": "markdown",
   "id": "329414e0-dbc5-4b0a-9d63-17831cfc032e",
   "metadata": {
    "tags": []
   },
   "source": [
    "# create prob sets"
   ]
  },
  {
   "cell_type": "code",
   "execution_count": null,
   "id": "440d701d-744e-40f7-8048-378921ea3bb1",
   "metadata": {
    "tags": []
   },
   "outputs": [],
   "source": [
    "h5_places = h5py.File(\"../data/places.h5py\", \"r\")\n",
    "places_imges = h5_places['resized_place']\n",
    "\n",
    "h5_coco_test = h5py.File(\"../data/coco_idtest.h5py\", \"r\")\n",
    "coco_test_imgs = h5_coco_test['resized_images']\n",
    "coco_test_masks = h5_coco_test['resized_mask']"
   ]
  },
  {
   "cell_type": "code",
   "execution_count": null,
   "id": "5f5b5637-ff84-43c3-ad78-5b6a5b2c0a55",
   "metadata": {
    "tags": []
   },
   "outputs": [],
   "source": [
    "bg_color_imgs = []\n",
    "bg_colors =  np.array([[0, 100, 0], [188, 143, 143], [255, 0, 0], [255, 215, 0], [0, 255, 0], [65, 105, 225], [0, 225, 225], [0, 0, 255], [255, 20, 147],\n",
    "[160, 160, 160]])\n",
    "for bg_index in range(10):\n",
    "    _img = np.ones((64,64,3)) * bg_colors[bg_index] / 255.\n",
    "    bg_color_imgs.append(_img.transpose([2,0,1]))"
   ]
  },
  {
   "cell_type": "code",
   "execution_count": null,
   "id": "9eeba510-39fd-44b2-be9a-59d6874cdfc1",
   "metadata": {
    "tags": []
   },
   "outputs": [],
   "source": [
    "## prob 1: only fg\n",
    "# init\n",
    "fname = os.path.join(\"../data/colorobject/prob1.h5py\")\n",
    "if os.path.exists(fname): subprocess.call(['rm', fname])\n",
    "h5_file = h5py.File(fname, mode='w')\n",
    "h5_file.create_dataset('images', (1000,3,64,64), dtype=np.dtype('float32'))\n",
    "h5_file.create_dataset('fg_classes', (1000,), dtype=np.dtype('int32'))\n",
    "h5_file.create_dataset('bg_classes', (1000,), dtype=np.dtype('int32'))\n",
    "h5_file.create_dataset('mask_size', (1000,), dtype=np.dtype('float32'))\n",
    "num_imgs_pre_class = 100\n",
    "masks = coco_test_masks\n",
    "imgs = coco_test_imgs\n",
    "\n",
    "for class_index in range(10):\n",
    "    for image_index in tqdm(range(num_imgs_pre_class)):\n",
    "        # use only fg!\n",
    "        # get mask and img\n",
    "        _mask = masks[class_index*num_imgs_pre_class + image_index]\n",
    "        _coco_img = imgs[class_index*num_imgs_pre_class + image_index]\n",
    "        # combine fg and bg\n",
    "        _combined_img  = _coco_img * _mask\n",
    "        \n",
    "        _mask_size = _mask.sum() / 64 / 64 / 3\n",
    "        \n",
    "        # record\n",
    "        h5_file[\"images\"][class_index*num_imgs_pre_class + image_index] = _combined_img\n",
    "        h5_file[\"fg_classes\"][class_index*num_imgs_pre_class + image_index] = class_index\n",
    "        h5_file[\"bg_classes\"][class_index*num_imgs_pre_class + image_index] = -1\n",
    "        h5_file[\"mask_size\"][class_index*num_imgs_pre_class + image_index] = _mask_size\n",
    "h5_file.close()"
   ]
  },
  {
   "cell_type": "code",
   "execution_count": null,
   "id": "f3e04a37-14f4-4595-aff2-0c0d725d02b3",
   "metadata": {
    "tags": []
   },
   "outputs": [],
   "source": [
    "## prob 2: only bg\n",
    "# init\n",
    "# fname = os.path.join(\"../data/cocoplaces/prob2.h5py\")\n",
    "fname = os.path.join(\"../data/colorobject/prob2.h5py\")\n",
    "if os.path.exists(fname): subprocess.call(['rm', fname])\n",
    "h5_file = h5py.File(fname, mode='w')\n",
    "h5_file.create_dataset('images', (1000,3,64,64), dtype=np.dtype('float32'))\n",
    "h5_file.create_dataset('fg_classes', (1000,), dtype=np.dtype('int32'))\n",
    "h5_file.create_dataset('bg_classes', (1000,), dtype=np.dtype('int32'))\n",
    "h5_file.create_dataset('mask_size', (1000,), dtype=np.dtype('float32'))\n",
    "\n",
    "num_imgs_pre_class = 100\n",
    "place_img_index_start = 900\n",
    "masks = coco_test_masks\n",
    "imgs = coco_test_imgs\n",
    "\n",
    "for class_index in range(10):\n",
    "    for image_index in tqdm(range(num_imgs_pre_class)):\n",
    "        # use only bg!\n",
    "        place_class_index = class_index\n",
    "        _place_img = bg_color_imgs[place_class_index]\n",
    "        _combined_img  = _place_img\n",
    "        \n",
    "        # record\n",
    "        h5_file[\"images\"][class_index*num_imgs_pre_class + image_index] = _combined_img\n",
    "        h5_file[\"fg_classes\"][class_index*num_imgs_pre_class + image_index] =  -1\n",
    "        h5_file[\"bg_classes\"][class_index*num_imgs_pre_class + image_index] = place_class_index\n",
    "        h5_file[\"mask_size\"][class_index*num_imgs_pre_class + image_index] = 1\n",
    "h5_file.close()"
   ]
  },
  {
   "cell_type": "code",
   "execution_count": null,
   "id": "90d5a5f5-8e53-427f-844e-3e9235e6e1f7",
   "metadata": {},
   "outputs": [],
   "source": [
    "## prob 3: only fg + only bg\n",
    "# init\n",
    "# fname = os.path.join(\"../data/cocoplaces/prob3.h5py\")\n",
    "fname = os.path.join(\"../data/colorobject/prob3.h5py\")\n",
    "if os.path.exists(fname): subprocess.call(['rm', fname])\n",
    "h5_file = h5py.File(fname, mode='w')\n",
    "h5_file.create_dataset('images', (2000,3,64,64), dtype=np.dtype('float32'))\n",
    "h5_file.create_dataset('fg_classes', (2000,), dtype=np.dtype('int32'))\n",
    "h5_file.create_dataset('bg_classes', (2000,), dtype=np.dtype('int32'))\n",
    "h5_file.create_dataset('mask_size', (2000,), dtype=np.dtype('float32'))\n",
    "\n",
    "h5_file_prob1 = h5py.File(\"../data/colorobject/prob1.h5py\", mode='r')\n",
    "h5_file_prob2 = h5py.File(\"../data/colorobject/prob2.h5py\", mode='r')\n",
    "\n",
    "h5_file['images'][:1000] = h5_file_prob1['images']\n",
    "h5_file['fg_classes'][:1000] = h5_file_prob1['fg_classes']\n",
    "h5_file['bg_classes'][:1000] = h5_file_prob1['bg_classes']\n",
    "h5_file['mask_size'][:1000] = h5_file_prob1['mask_size']\n",
    "\n",
    "h5_file['images'][1000:] = h5_file_prob2['images']\n",
    "h5_file['fg_classes'][1000:] = h5_file_prob2['fg_classes']\n",
    "h5_file['bg_classes'][1000:] = h5_file_prob2['bg_classes']\n",
    "h5_file['mask_size'][1000:] = h5_file_prob2['mask_size']\n",
    "\n",
    "h5_file_prob1.close()\n",
    "h5_file_prob2.close()\n",
    "h5_file.close()"
   ]
  },
  {
   "cell_type": "code",
   "execution_count": null,
   "id": "a2e6242d-6bd3-41b9-b6b9-418cb226b9b7",
   "metadata": {
    "tags": []
   },
   "outputs": [],
   "source": [
    "## prob_random_paires\n",
    "# init\n",
    "# fname = os.path.join(\"../data/cocoplaces/prob_random_paires.h5py\")\n",
    "fname = os.path.join(\"../data/colorobject/prob_random_paires.h5py\")\n",
    "if os.path.exists(fname): subprocess.call(['rm', fname])\n",
    "h5_file = h5py.File(fname, mode='w')\n",
    "num_images = 5000\n",
    "h5_file.create_dataset('images', (3*num_images,3,64,64), dtype=np.dtype('float32'))\n",
    "h5_file.create_dataset('mask_size', (3*num_images,), dtype=np.dtype('float32'))\n",
    "masks = coco_test_masks\n",
    "imgs = coco_test_imgs\n",
    "\n",
    "for image_id in tqdm(range(num_images)):\n",
    "    # randomly sample a image\n",
    "    fg_image_index = np.random.randint(1000)\n",
    "    bg_class_index = np.random.randint(10)\n",
    "    bg_image_index = np.random.randint(100)\n",
    "    fg_image_index_new = np.random.randint(1000)\n",
    "    bg_class_index_new = np.random.randint(10)\n",
    "    bg_image_index_new = np.random.randint(100)\n",
    "    \n",
    "    # get mask and img\n",
    "    _mask = masks[fg_image_index]\n",
    "    _mask_size = _mask.sum() / 64 / 64 / 3\n",
    "    _coco_img = imgs[fg_image_index]\n",
    "    _mask_new = masks[fg_image_index_new]\n",
    "    _mask_size_new = _mask_new.sum() / 64 / 64 / 3\n",
    "    _coco_img_new = imgs[fg_image_index_new]\n",
    "    # get place\n",
    "    # _place_img = places_imges[bg_class_index][bg_image_index+900]\n",
    "    # _place_img_new = places_imges[bg_class_index_new][bg_image_index_new+900]\n",
    "    _place_img = bg_color_imgs[bg_class_index]\n",
    "    _place_img_new = bg_color_imgs[bg_class_index_new]\n",
    "    # combine\n",
    "    _combined_img  = _place_img * (1-_mask) + _coco_img * _mask\n",
    "    _combined_img_flip_fg  = _place_img * (1-_mask_new) + _coco_img_new * _mask_new\n",
    "    _combined_img_flip_bg  = _place_img_new * (1-_mask) + _coco_img * _mask\n",
    "    # record ori\n",
    "    h5_file[\"images\"][image_id] = _combined_img\n",
    "    h5_file[\"mask_size\"][image_id] = _mask_size\n",
    "    # record flip fg\n",
    "    h5_file[\"images\"][image_id+num_images] = _combined_img_flip_fg\n",
    "    h5_file[\"mask_size\"][image_id+num_images] = _mask_size_new\n",
    "    # record flip bg\n",
    "    h5_file[\"images\"][image_id+num_images*2] = _combined_img_flip_bg\n",
    "    h5_file[\"mask_size\"][image_id+num_images*2] = _mask_size\n",
    "h5_file.close()"
   ]
  },
  {
   "cell_type": "markdown",
   "id": "520374c5-1d75-45fd-a5f0-0ab35d3e0781",
   "metadata": {
    "tags": []
   },
   "source": [
    "# computing metrics"
   ]
  },
  {
   "cell_type": "code",
   "execution_count": 12,
   "id": "73394a55-6069-4e69-a1ae-6df70d16bee1",
   "metadata": {
    "tags": []
   },
   "outputs": [
    {
     "name": "stdout",
     "output_type": "stream",
     "text": [
      "loaded saved_dict_SceneCOCO_Final.pkl\n"
     ]
    }
   ],
   "source": [
    "# open stuff\n",
    "_path = f'saved_dict_{args.dataset}.pkl'\n",
    "with open(_path, 'rb') as f:\n",
    "    print(f\"loaded {_path}\")\n",
    "    saved_dict = pickle.load(f)"
   ]
  },
  {
   "cell_type": "code",
   "execution_count": 19,
   "id": "bf73ddcb-2c38-4904-ad4d-f66c76e4c95f",
   "metadata": {
    "tags": []
   },
   "outputs": [],
   "source": [
    "# read subspaces sets\n",
    "num_rand_paires = 10\n",
    "h5_file = h5py.File(os.path.join(args.data_dir, f\"test_subspaces_sample{num_rand_paires}.h5py\"), \"r\")\n",
    "X_subspaces = h5_file.get('images')[()]\n",
    "h5_file.close()\n",
    "\n",
    "# dataloader - subspaces\n",
    "dataset = utils.SimpleDataset_masksize(X_subspaces, np.zeros(X_subspaces.shape[0]), np.zeros(X_subspaces.shape[0]))\n",
    "data_loader_subspaces = torch.utils.data.DataLoader(dataset=dataset, batch_size=1534,\n",
    "                                                 num_workers=0, shuffle=False)"
   ]
  },
  {
   "cell_type": "code",
   "execution_count": 22,
   "id": "8ace4442-6a18-4682-a8e2-56dc93ede3fd",
   "metadata": {
    "tags": []
   },
   "outputs": [],
   "source": [
    "# read prob3\n",
    "h5_file = h5py.File(os.path.join(args.data_dir, \"prob3.h5py\"), \"r\")\n",
    "X_prob3 = h5_file.get('images')[()]\n",
    "y_prob3_fg = h5_file.get('fg_classes')[()]\n",
    "y_prob3_bg = h5_file.get('bg_classes')[()]\n",
    "y_prob3 = np.zeros(y_prob3_fg.shape)\n",
    "y_prob3[:1000] = y_prob3_fg[:1000]\n",
    "y_prob3[1000:] = y_prob3_bg[1000:]+10\n",
    "mask_size_prob3 = h5_file.get('mask_size')[()]\n",
    "h5_file.close()\n",
    "\n",
    "# probe set - for RSA and probing acc\n",
    "dataset = utils.SimpleDataset_masksize(X_prob3, y_prob3, mask_size_prob3)\n",
    "data_loader_prob3 = torch.utils.data.DataLoader(dataset=dataset, batch_size=1024,\n",
    "                                                 num_workers=0, shuffle=False)"
   ]
  },
  {
   "cell_type": "code",
   "execution_count": 23,
   "id": "f985640a-ca3a-4f37-ac9d-5e64f1836605",
   "metadata": {
    "tags": []
   },
   "outputs": [],
   "source": [
    "# read ood1\n",
    "h5_file = h5py.File(os.path.join(args.data_dir, \"test_ood1.h5py\"), \"r\")\n",
    "X_OOD1 = h5_file.get('images')[()]\n",
    "y_OOD1_fg = h5_file.get('fg_classes')[()]\n",
    "y_OOD1_bg = h5_file.get('bg_classes')[()]\n",
    "mask_size_OOD1 = np.zeros(X_OOD1.shape)\n",
    "h5_file.close()\n",
    "\n",
    "# dataloader - ood1\n",
    "dataset = utils.SimpleDataset_masksize(X_OOD1, y_OOD1_fg, mask_size_OOD1)\n",
    "data_loader_OOD1 = torch.utils.data.DataLoader(dataset=dataset, batch_size=1024,\n",
    "                                                 num_workers=0, shuffle=False)"
   ]
  },
  {
   "cell_type": "code",
   "execution_count": 24,
   "id": "10cd56d5-3c73-4467-a2de-a806b86e3aa7",
   "metadata": {
    "tags": []
   },
   "outputs": [],
   "source": [
    "# read prob - randomly flip fg/bg\n",
    "h5_file = h5py.File(os.path.join(args.data_dir, \"prob_random_paires.h5py\"), \"r\")\n",
    "X_prob_rand_paires = h5_file.get('images')[()]\n",
    "y_prob_rand_paires = np.zeros(len(X_prob_rand_paires))\n",
    "mask_size_rand_paires = h5_file.get('mask_size')[()]\n",
    "h5_file.close()\n",
    "\n",
    "# dataloader - randomly flip fg/bg - for weighted evidence metrics\n",
    "dataset_rand_paires = utils.SimpleDataset_masksize(X_prob_rand_paires, y_prob_rand_paires, mask_size_rand_paires)\n",
    "data_loader_rand_paires = torch.utils.data.DataLoader(dataset=dataset_rand_paires, batch_size=1024,\n",
    "                                                 num_workers=0, shuffle=False)"
   ]
  },
  {
   "cell_type": "code",
   "execution_count": 25,
   "id": "1f6e2bdc-399b-47e8-b311-d95cf41a8c18",
   "metadata": {
    "tags": []
   },
   "outputs": [],
   "source": [
    "import metrics\n",
    "target_rdms = metrics.create_target_rdm(args.data_dir)"
   ]
  },
  {
   "cell_type": "code",
   "execution_count": 26,
   "id": "8500681b-4c9c-4c17-babd-b1e05ea0fd3e",
   "metadata": {
    "tags": []
   },
   "outputs": [],
   "source": [
    "dataloaders = (data_loader_prob3, data_loader_rand_paires, data_loader_OOD1, data_loader_subspaces)\n",
    "ylabels = (y_prob3, y_OOD1_fg, y_OOD1_bg)"
   ]
  },
  {
   "cell_type": "code",
   "execution_count": null,
   "id": "931678f8-2c81-4f0c-bb70-d361376fe98c",
   "metadata": {},
   "outputs": [],
   "source": [
    "## all baselines - ColorObject & SceneObject\n",
    "args.use_two_labels = False\n",
    "args.use_mask = False\n",
    "seed_list = [0, 7, 77, 8, 88,\n",
    "             1, 777, 7777, 888, 8888]\n",
    "for _algo in [\"ERM\", \"IRM\", \"VREx\", \"GroupDRO\", \"Fish\", \"MLDG\"]:\n",
    "    for _seed in seed_list:\n",
    "        args.algorithm = _algo\n",
    "        args.trial_seed = _seed\n",
    "        _exp_name=f\"{args.bias}_{args.algorithm}_seed{args.trial_seed}\"      \n",
    "        args.exp_name = _exp_name\n",
    "        saved_dict = utils.prob_model(args, saved_dict, target_rdms, \n",
    "                                      dataloaders, ylabels)"
   ]
  },
  {
   "cell_type": "code",
   "execution_count": null,
   "id": "a5836ca3-5876-43fa-8ba7-8910332d9b79",
   "metadata": {},
   "outputs": [],
   "source": [
    "## augmentation - fgRandom+bgOnly - 3 weights mixed\n",
    "args.aug_fg = True\n",
    "args.aug_bg = True\n",
    "args.use_two_labels = True\n",
    "args.use_mask = True\n",
    "args.algorithm = \"ERM_augmentation\"\n",
    "\n",
    "seed_list = [0, 7, 77, 8, 88,\n",
    "            1, 777, 7777, 888, 8888]\n",
    "mix_rate_list = [0.0, 0.1, 0.2, 0.3, 0.4, 0.5]\n",
    "for _mix_rate_fg in mix_rate_list:\n",
    "    _mix_rate_bg = 0.5 - mix_rate_list\n",
    "    for _seed in seed_list:\n",
    "        args.trial_seed = _seed\n",
    "        \n",
    "        _exp_name = f\"{args.bias}_ERM_augmentation_fgRandom{_mix_rate_fg}_bgOnly{_mix_rate_bg}_seed{args.trial_seed}\"\n",
    "        args.exp_name = _exp_name\n",
    "        saved_dict = utils.prob_model(args, saved_dict, target_rdms, \n",
    "                                      dataloaders, ylabels)"
   ]
  },
  {
   "cell_type": "code",
   "execution_count": 32,
   "id": "444aabe7-b468-4e12-bea7-4003027df60b",
   "metadata": {},
   "outputs": [],
   "source": [
    "# save stuff\n",
    "with open(f'saved_dict_{args.dataset}.pkl', 'wb') as f:\n",
    "    pickle.dump(saved_dict, f)"
   ]
  },
  {
   "cell_type": "markdown",
   "id": "0f42a997-4f93-4316-90ad-c0e2b4cb3077",
   "metadata": {
    "tags": []
   },
   "source": [
    "# regression analysis"
   ]
  },
  {
   "cell_type": "code",
   "execution_count": 78,
   "id": "ed59df54-bc1f-4282-a0f4-5165c4be7811",
   "metadata": {
    "tags": []
   },
   "outputs": [],
   "source": [
    "# open stuff\n",
    "with open(f'saved_dict_{args.dataset}_Final.pkl', 'rb') as f:\n",
    "    saved_dict = pickle.load(f)"
   ]
  },
  {
   "cell_type": "code",
   "execution_count": 79,
   "id": "5f051f29-e263-40bc-8340-dcec5f32c275",
   "metadata": {
    "tags": []
   },
   "outputs": [],
   "source": [
    "column_names = ['exp_name', \"model_algo\", \"seed\", \"test_id\", \n",
    "                \"test_ood1\", \"test_ood2\", \"test_ood2ext\"]\n",
    "\n",
    "# add rdm corr\n",
    "# for layer_name in ['layer1', 'layer2', 'layer3', 'layer4']:\n",
    "for layer_name in ['layer1', 'layer2', 'layer4', 'output']:\n",
    "    if layer_name != 'output':\n",
    "        column_names.append(f\"rsa_obj_scene_{layer_name}\")\n",
    "        column_names.append(f\"rsa_cat_sep_{layer_name}\")\n",
    "        column_names.append(f\"rsa_co_occure_{layer_name}\")\n",
    "        column_names.append(f\"prob3_acc_{layer_name}\")\n",
    "        # column_names.append(f\"probOOD1_trad_fg_{layer_name}\")\n",
    "        # column_names.append(f\"probOOD1_trad_bg_{layer_name}\")\n",
    "        # column_names.append(f\"probOOD1_nSqaure_acc_{layer_name}\")\n",
    "        column_names.append(f'rel_change-rand_pair-l1-sub_{layer_name}')\n",
    "        column_names.append(f'rel_change-rand_pair-l1-div_{layer_name}')\n",
    "        column_names.append(f'rel_change-rand_pair-l2-sub_{layer_name}')\n",
    "        column_names.append(f'rel_change-rand_pair-l2-div_{layer_name}')\n",
    "        column_names.append(f'fact_subspaces_fg_samples10_{layer_name}')\n",
    "        column_names.append(f'fact_subspaces_bg_samples10_{layer_name}')\n",
    "        column_names.append(f'inv_subspaces_fg_samples10_{layer_name}')\n",
    "        column_names.append(f'inv_subspaces_bg_samples10_{layer_name}')\n",
    "    else:\n",
    "        column_names.append(f'rel_change-rand_pair-l1-sub_{layer_name}')\n",
    "        column_names.append(f'rel_change-rand_pair-l1-div_{layer_name}')\n",
    "        column_names.append(f'rel_change-rand_pair-l2-sub_{layer_name}')\n",
    "        column_names.append(f'rel_change-rand_pair-l2-div_{layer_name}')\n",
    "        column_names.append(f'rel_change-rand_pair-kl-sub_{layer_name}')\n",
    "        column_names.append(f'rel_change-rand_pair-kl-div_{layer_name}')\n",
    "column_names.append('fact_subspaces_fg_samples100_layer4')\n",
    "column_names.append('fact_subspaces_bg_samples100_layer4')\n",
    "column_names.append('inv_subspaces_fg_samples100_layer4')\n",
    "column_names.append('inv_subspaces_bg_samples100_layer4')\n",
    "# column_names.append('rel_act_scale')\n",
    "# column_names.append('rel_act_scale_v2')\n",
    "\n",
    "all_data = []\n",
    "# seed_list = [0, 7, 77, 8, 88,\n",
    "#              1, 777, 7777, 888, 8888]\n",
    "# for _algo in [\"ERM\", \"IRM\", \"VREx\", \"GroupDRO\", \"Fish\", \"MLDG\"]:\n",
    "#     for _seed in seed_list:\n",
    "#         _exp_name = _exp_name=f\"{args.bias}_{_algo}_seed{_seed}\"\n",
    "\n",
    "incomplete_exps = []\n",
    "for _exp_name in saved_dict.keys():\n",
    "    model_dict = saved_dict[_exp_name]\n",
    "    if \"fact_subspaces_fg_layer3\" not in model_dict:\n",
    "        incomplete_exps.append(_exp_name)\n",
    "        continue\n",
    "    _test_id_acc = (model_dict['test_id_0_acc'] + model_dict['test_id_1_acc']) / 2\n",
    "    _test_ood2_acc = (model_dict['test_ood2_level1_acc'] + model_dict['test_ood2_level2_acc'] +\\\n",
    "                     model_dict['test_ood2_level3_acc'] + model_dict['test_ood2_level4_acc'] + \\\n",
    "                     model_dict['test_ood2_level5_acc']) / 5\n",
    "    new_row = [_exp_name, model_dict['algo'], model_dict['seed'], \n",
    "               _test_id_acc, model_dict['test_ood1_0.0_acc'], \n",
    "               _test_ood2_acc, model_dict['ood2ext_acc']]    \n",
    "\n",
    "    # rdm corr\n",
    "    # for layer_name in ['layer1', 'layer2', 'layer3', 'layer4']:\n",
    "    for layer_name in ['layer1', 'layer2', 'layer4', 'output']:\n",
    "        if layer_name != 'output':\n",
    "            new_row.append(model_dict[f\"prob3_rsa_obj_scene_{layer_name}\"])\n",
    "            new_row.append(model_dict[f\"prob3_rsa_cat_sep_{layer_name}\"])\n",
    "            new_row.append(model_dict[f\"prob3_rsa_co_occure_{layer_name}\"])\n",
    "            new_row.append(model_dict[f\"prob3_acc_{layer_name}\"])\n",
    "            # new_row.append(model_dict[f\"probOOD1_trad_fg_{layer_name}\"])\n",
    "            # new_row.append(model_dict[f\"probOOD1_trad_bg_{layer_name}\"])\n",
    "            # new_row.append(model_dict[f\"probOOD1_nSqaure_acc_{layer_name}\"])\n",
    "            new_row.append(model_dict[f'rel_change-rand_pair-l1-sub_{layer_name}'])\n",
    "            new_row.append(model_dict[f'rel_change-rand_pair-l1-div_{layer_name}'])\n",
    "            new_row.append(model_dict[f'rel_change-rand_pair-l2-sub_{layer_name}'])\n",
    "            new_row.append(model_dict[f'rel_change-rand_pair-l2-div_{layer_name}'])\n",
    "            new_row.append(model_dict[f'fact_subspaces_fg_samples10_{layer_name}'])\n",
    "            new_row.append(model_dict[f'fact_subspaces_bg_samples10_{layer_name}'])\n",
    "            new_row.append(model_dict[f'inv_subspaces_fg_samples10_{layer_name}'])\n",
    "            new_row.append(model_dict[f'inv_subspaces_bg_samples10_{layer_name}'])\n",
    "        else:\n",
    "            new_row.append(model_dict[f'rel_change-rand_pair-l1-sub_{layer_name}'])\n",
    "            new_row.append(model_dict[f'rel_change-rand_pair-l1-div_{layer_name}'])\n",
    "            new_row.append(model_dict[f'rel_change-rand_pair-l2-sub_{layer_name}'])\n",
    "            new_row.append(model_dict[f'rel_change-rand_pair-l2-div_{layer_name}'])\n",
    "            new_row.append(model_dict[f'rel_change-rand_pair-kl-sub_{layer_name}'])\n",
    "            new_row.append(model_dict[f'rel_change-rand_pair-kl-div_{layer_name}'])\n",
    "    new_row.append(model_dict['fact_subspaces_fg_samples100_layer4'])\n",
    "    new_row.append(model_dict['fact_subspaces_bg_samples100_layer4'])\n",
    "    new_row.append(model_dict['inv_subspaces_fg_samples100_layer4'])\n",
    "    new_row.append(model_dict['inv_subspaces_bg_samples100_layer4'])\n",
    "    \n",
    "    all_data.append(new_row)"
   ]
  },
  {
   "cell_type": "code",
   "execution_count": 80,
   "id": "b61f953f-cc1f-444f-932b-679096ea812f",
   "metadata": {
    "tags": []
   },
   "outputs": [
    {
     "data": {
      "text/plain": [
       "['9and7_ERM_augmentation_fgOnly_seed0',\n",
       " '9and7_ERM_augmentation_fgOnly_seed7',\n",
       " '9and7_ERM_augmentation_fgOnly_seed77',\n",
       " '9and7_ERM_augmentation_fgOnly_seed8',\n",
       " '9and7_ERM_augmentation_fgOnly_seed88',\n",
       " '9and7_ERM_augmentation_fgOnly_seed1',\n",
       " '9and7_ERM_augmentation_fgOnly_seed777',\n",
       " '9and7_ERM_augmentation_fgOnly_seed7777',\n",
       " '9and7_ERM_augmentation_fgOnly_seed888',\n",
       " '9and7_ERM_augmentation_fgOnly_seed8888']"
      ]
     },
     "execution_count": 80,
     "metadata": {},
     "output_type": "execute_result"
    }
   ],
   "source": [
    "incomplete_exps"
   ]
  },
  {
   "cell_type": "code",
   "execution_count": 81,
   "id": "8bb4d3f6-e985-4fb7-9fac-392ec9581817",
   "metadata": {
    "tags": []
   },
   "outputs": [
    {
     "data": {
      "text/html": [
       "<div>\n",
       "<style scoped>\n",
       "    .dataframe tbody tr th:only-of-type {\n",
       "        vertical-align: middle;\n",
       "    }\n",
       "\n",
       "    .dataframe tbody tr th {\n",
       "        vertical-align: top;\n",
       "    }\n",
       "\n",
       "    .dataframe thead th {\n",
       "        text-align: right;\n",
       "    }\n",
       "</style>\n",
       "<table border=\"1\" class=\"dataframe\">\n",
       "  <thead>\n",
       "    <tr style=\"text-align: right;\">\n",
       "      <th></th>\n",
       "      <th>exp_name</th>\n",
       "      <th>seed</th>\n",
       "      <th>test_id</th>\n",
       "      <th>test_ood1</th>\n",
       "      <th>test_ood2</th>\n",
       "      <th>test_ood2ext</th>\n",
       "      <th>rsa_obj_scene_layer1</th>\n",
       "      <th>rsa_cat_sep_layer1</th>\n",
       "      <th>rsa_co_occure_layer1</th>\n",
       "      <th>prob3_acc_layer1</th>\n",
       "      <th>...</th>\n",
       "      <th>fact_subspaces_bg_samples100_layer4</th>\n",
       "      <th>inv_subspaces_fg_samples100_layer4</th>\n",
       "      <th>inv_subspaces_bg_samples100_layer4</th>\n",
       "      <th>alg_0</th>\n",
       "      <th>alg_1</th>\n",
       "      <th>alg_2</th>\n",
       "      <th>alg_3</th>\n",
       "      <th>alg_4</th>\n",
       "      <th>alg_5</th>\n",
       "      <th>alg_6</th>\n",
       "    </tr>\n",
       "  </thead>\n",
       "  <tbody>\n",
       "    <tr>\n",
       "      <th>0</th>\n",
       "      <td>9and7_ERM_augmentation_fgRandom_bgOnly_MixRate...</td>\n",
       "      <td>None</td>\n",
       "      <td>0.6995</td>\n",
       "      <td>0.275</td>\n",
       "      <td>0.752800</td>\n",
       "      <td>0.727</td>\n",
       "      <td>0.191007</td>\n",
       "      <td>0.063345</td>\n",
       "      <td>0.014530</td>\n",
       "      <td>0.315507</td>\n",
       "      <td>...</td>\n",
       "      <td>0.055714</td>\n",
       "      <td>0.541346</td>\n",
       "      <td>0.360020</td>\n",
       "      <td>0</td>\n",
       "      <td>1</td>\n",
       "      <td>0</td>\n",
       "      <td>0</td>\n",
       "      <td>0</td>\n",
       "      <td>0</td>\n",
       "      <td>0</td>\n",
       "    </tr>\n",
       "    <tr>\n",
       "      <th>1</th>\n",
       "      <td>9and7_ERM_augmentation_fgRandom_bgOnly_MixRate...</td>\n",
       "      <td>None</td>\n",
       "      <td>0.7415</td>\n",
       "      <td>0.353</td>\n",
       "      <td>0.745067</td>\n",
       "      <td>0.735</td>\n",
       "      <td>0.235267</td>\n",
       "      <td>0.076299</td>\n",
       "      <td>0.016194</td>\n",
       "      <td>0.344993</td>\n",
       "      <td>...</td>\n",
       "      <td>0.068042</td>\n",
       "      <td>0.442040</td>\n",
       "      <td>0.454847</td>\n",
       "      <td>0</td>\n",
       "      <td>1</td>\n",
       "      <td>0</td>\n",
       "      <td>0</td>\n",
       "      <td>0</td>\n",
       "      <td>0</td>\n",
       "      <td>0</td>\n",
       "    </tr>\n",
       "    <tr>\n",
       "      <th>2</th>\n",
       "      <td>9and7_ERM_augmentation_fgRandom_bgOnly_MixRate...</td>\n",
       "      <td>None</td>\n",
       "      <td>0.7490</td>\n",
       "      <td>0.381</td>\n",
       "      <td>0.732000</td>\n",
       "      <td>0.729</td>\n",
       "      <td>0.251697</td>\n",
       "      <td>0.075342</td>\n",
       "      <td>0.013056</td>\n",
       "      <td>0.303996</td>\n",
       "      <td>...</td>\n",
       "      <td>0.077125</td>\n",
       "      <td>0.386347</td>\n",
       "      <td>0.516998</td>\n",
       "      <td>0</td>\n",
       "      <td>1</td>\n",
       "      <td>0</td>\n",
       "      <td>0</td>\n",
       "      <td>0</td>\n",
       "      <td>0</td>\n",
       "      <td>0</td>\n",
       "    </tr>\n",
       "    <tr>\n",
       "      <th>3</th>\n",
       "      <td>9and7_ERM_augmentation_fgRandom_bgOnly_MixRate...</td>\n",
       "      <td>None</td>\n",
       "      <td>0.7620</td>\n",
       "      <td>0.417</td>\n",
       "      <td>0.722267</td>\n",
       "      <td>0.734</td>\n",
       "      <td>0.200766</td>\n",
       "      <td>0.066626</td>\n",
       "      <td>0.014824</td>\n",
       "      <td>0.309995</td>\n",
       "      <td>...</td>\n",
       "      <td>0.095791</td>\n",
       "      <td>0.345925</td>\n",
       "      <td>0.556452</td>\n",
       "      <td>0</td>\n",
       "      <td>1</td>\n",
       "      <td>0</td>\n",
       "      <td>0</td>\n",
       "      <td>0</td>\n",
       "      <td>0</td>\n",
       "      <td>0</td>\n",
       "    </tr>\n",
       "    <tr>\n",
       "      <th>4</th>\n",
       "      <td>9and7_ERM_augmentation_fgRandom_bgOnly_MixRate...</td>\n",
       "      <td>None</td>\n",
       "      <td>0.7455</td>\n",
       "      <td>0.461</td>\n",
       "      <td>0.670800</td>\n",
       "      <td>0.694</td>\n",
       "      <td>0.307689</td>\n",
       "      <td>0.095379</td>\n",
       "      <td>0.018034</td>\n",
       "      <td>0.334499</td>\n",
       "      <td>...</td>\n",
       "      <td>0.110140</td>\n",
       "      <td>0.295623</td>\n",
       "      <td>0.617432</td>\n",
       "      <td>0</td>\n",
       "      <td>1</td>\n",
       "      <td>0</td>\n",
       "      <td>0</td>\n",
       "      <td>0</td>\n",
       "      <td>0</td>\n",
       "      <td>0</td>\n",
       "    </tr>\n",
       "  </tbody>\n",
       "</table>\n",
       "<p>5 rows × 59 columns</p>\n",
       "</div>"
      ],
      "text/plain": [
       "                                            exp_name  seed  test_id  \\\n",
       "0  9and7_ERM_augmentation_fgRandom_bgOnly_MixRate...  None   0.6995   \n",
       "1  9and7_ERM_augmentation_fgRandom_bgOnly_MixRate...  None   0.7415   \n",
       "2  9and7_ERM_augmentation_fgRandom_bgOnly_MixRate...  None   0.7490   \n",
       "3  9and7_ERM_augmentation_fgRandom_bgOnly_MixRate...  None   0.7620   \n",
       "4  9and7_ERM_augmentation_fgRandom_bgOnly_MixRate...  None   0.7455   \n",
       "\n",
       "   test_ood1  test_ood2  test_ood2ext  rsa_obj_scene_layer1  \\\n",
       "0      0.275   0.752800         0.727              0.191007   \n",
       "1      0.353   0.745067         0.735              0.235267   \n",
       "2      0.381   0.732000         0.729              0.251697   \n",
       "3      0.417   0.722267         0.734              0.200766   \n",
       "4      0.461   0.670800         0.694              0.307689   \n",
       "\n",
       "   rsa_cat_sep_layer1  rsa_co_occure_layer1  prob3_acc_layer1  ...  \\\n",
       "0            0.063345              0.014530          0.315507  ...   \n",
       "1            0.076299              0.016194          0.344993  ...   \n",
       "2            0.075342              0.013056          0.303996  ...   \n",
       "3            0.066626              0.014824          0.309995  ...   \n",
       "4            0.095379              0.018034          0.334499  ...   \n",
       "\n",
       "   fact_subspaces_bg_samples100_layer4  inv_subspaces_fg_samples100_layer4  \\\n",
       "0                             0.055714                            0.541346   \n",
       "1                             0.068042                            0.442040   \n",
       "2                             0.077125                            0.386347   \n",
       "3                             0.095791                            0.345925   \n",
       "4                             0.110140                            0.295623   \n",
       "\n",
       "   inv_subspaces_bg_samples100_layer4  alg_0  alg_1  alg_2  alg_3  alg_4  \\\n",
       "0                            0.360020      0      1      0      0      0   \n",
       "1                            0.454847      0      1      0      0      0   \n",
       "2                            0.516998      0      1      0      0      0   \n",
       "3                            0.556452      0      1      0      0      0   \n",
       "4                            0.617432      0      1      0      0      0   \n",
       "\n",
       "   alg_5  alg_6  \n",
       "0      0      0  \n",
       "1      0      0  \n",
       "2      0      0  \n",
       "3      0      0  \n",
       "4      0      0  \n",
       "\n",
       "[5 rows x 59 columns]"
      ]
     },
     "execution_count": 81,
     "metadata": {},
     "output_type": "execute_result"
    }
   ],
   "source": [
    "df = pd.DataFrame(all_data, columns = column_names)\n",
    "# model_algo to onehot\n",
    "from sklearn.preprocessing import OneHotEncoder, LabelBinarizer\n",
    "jobs_encoder = LabelBinarizer()\n",
    "jobs_encoder.fit(df['model_algo'])\n",
    "num_algo = len(pd.unique(df['model_algo']))\n",
    "transformed = jobs_encoder.transform(df['model_algo'])\n",
    "onehot_df = pd.DataFrame(transformed, columns=[f'alg_{i}' for i in range(num_algo)])\n",
    "df = pd.concat([df, onehot_df], axis=1).drop(['model_algo'], axis=1)\n",
    "df.head()"
   ]
  },
  {
   "cell_type": "code",
   "execution_count": 82,
   "id": "1499e181-b993-489d-9fd7-2961880ccebd",
   "metadata": {
    "tags": []
   },
   "outputs": [],
   "source": [
    "# subset \n",
    "if args.dataset == 'SceneCOCO':\n",
    "    df_sub = df\n",
    "if args.dataset == 'ColorObject':\n",
    "    df_sub = df[df['test_ood1']>0.15]"
   ]
  },
  {
   "cell_type": "code",
   "execution_count": 83,
   "id": "04e8d3df-f280-4753-ac98-d70242e81948",
   "metadata": {
    "tags": []
   },
   "outputs": [],
   "source": [
    "# add percentile\n",
    "from scipy import stats\n",
    "def add_percentile(name):\n",
    "    tmp = df_sub[name].tolist()\n",
    "    percentiles = [stats.percentileofscore(tmp, a, 'rank') for a in tmp]\n",
    "    df_sub[name+'_percentile'] = percentiles\n",
    "add_percentile(\"test_ood1\")\n",
    "add_percentile(\"test_ood2\")"
   ]
  },
  {
   "cell_type": "code",
   "execution_count": 84,
   "id": "9de17bc1-2a53-4d8d-a6ad-f93fd860bb2b",
   "metadata": {},
   "outputs": [],
   "source": [
    "from scipy.stats import hmean\n",
    "def add_two_column(name1, name2, new_name, normalize=True, HMEAN=False):\n",
    "    if normalize:\n",
    "        range1 = df_sub[name1].values.max() - df_sub[name1].values.min()\n",
    "        range2 = df_sub[name2].values.max() - df_sub[name2].values.min()\n",
    "        norm = range2 / range1\n",
    "        print(\"normalization factor: %.4f\" % (norm))\n",
    "    else:\n",
    "        norm = 1\n",
    "    new_list = df_sub[name1].values * norm + df_sub[name2].values\n",
    "    \n",
    "    if HMEAN:\n",
    "        new_list = hmean(df_sub[[name1, name2]].to_numpy(), axis=1)\n",
    "    df_sub[new_name] = new_list.tolist()"
   ]
  },
  {
   "cell_type": "code",
   "execution_count": 85,
   "id": "cc7c89bf-571e-45f2-80fc-2cb1f482805a",
   "metadata": {},
   "outputs": [
    {
     "name": "stdout",
     "output_type": "stream",
     "text": [
      "normalization factor: 0.7902\n",
      "normalization factor: 1.0627\n"
     ]
    },
    {
     "data": {
      "text/html": [
       "<div>\n",
       "<style scoped>\n",
       "    .dataframe tbody tr th:only-of-type {\n",
       "        vertical-align: middle;\n",
       "    }\n",
       "\n",
       "    .dataframe tbody tr th {\n",
       "        vertical-align: top;\n",
       "    }\n",
       "\n",
       "    .dataframe thead th {\n",
       "        text-align: right;\n",
       "    }\n",
       "</style>\n",
       "<table border=\"1\" class=\"dataframe\">\n",
       "  <thead>\n",
       "    <tr style=\"text-align: right;\">\n",
       "      <th></th>\n",
       "      <th>exp_name</th>\n",
       "      <th>seed</th>\n",
       "      <th>test_id</th>\n",
       "      <th>test_ood1</th>\n",
       "      <th>test_ood2</th>\n",
       "      <th>test_ood2ext</th>\n",
       "      <th>rsa_obj_scene_layer1</th>\n",
       "      <th>rsa_cat_sep_layer1</th>\n",
       "      <th>rsa_co_occure_layer1</th>\n",
       "      <th>prob3_acc_layer1</th>\n",
       "      <th>...</th>\n",
       "      <th>alg_5</th>\n",
       "      <th>alg_6</th>\n",
       "      <th>test_ood1_percentile</th>\n",
       "      <th>test_ood2_percentile</th>\n",
       "      <th>ood1_mix_ood2_norm</th>\n",
       "      <th>ood1_mix_ood2_ori</th>\n",
       "      <th>ood1_mix_ood2_hmean</th>\n",
       "      <th>ood1_mix_ood2ext_norm</th>\n",
       "      <th>ood1_mix_ood2ext_ori</th>\n",
       "      <th>ood1_mix_ood2_percentile</th>\n",
       "    </tr>\n",
       "  </thead>\n",
       "  <tbody>\n",
       "    <tr>\n",
       "      <th>0</th>\n",
       "      <td>9and7_ERM_augmentation_fgRandom_bgOnly_MixRate...</td>\n",
       "      <td>None</td>\n",
       "      <td>0.6995</td>\n",
       "      <td>0.275</td>\n",
       "      <td>0.752800</td>\n",
       "      <td>0.727</td>\n",
       "      <td>0.191007</td>\n",
       "      <td>0.063345</td>\n",
       "      <td>0.014530</td>\n",
       "      <td>0.315507</td>\n",
       "      <td>...</td>\n",
       "      <td>0</td>\n",
       "      <td>0</td>\n",
       "      <td>8.823529</td>\n",
       "      <td>90.000000</td>\n",
       "      <td>0.970094</td>\n",
       "      <td>1.027800</td>\n",
       "      <td>0.402841</td>\n",
       "      <td>1.019251</td>\n",
       "      <td>1.002</td>\n",
       "      <td>98.823529</td>\n",
       "    </tr>\n",
       "    <tr>\n",
       "      <th>1</th>\n",
       "      <td>9and7_ERM_augmentation_fgRandom_bgOnly_MixRate...</td>\n",
       "      <td>None</td>\n",
       "      <td>0.7415</td>\n",
       "      <td>0.353</td>\n",
       "      <td>0.745067</td>\n",
       "      <td>0.735</td>\n",
       "      <td>0.235267</td>\n",
       "      <td>0.076299</td>\n",
       "      <td>0.016194</td>\n",
       "      <td>0.344993</td>\n",
       "      <td>...</td>\n",
       "      <td>0</td>\n",
       "      <td>0</td>\n",
       "      <td>35.294118</td>\n",
       "      <td>84.705882</td>\n",
       "      <td>1.023993</td>\n",
       "      <td>1.098067</td>\n",
       "      <td>0.479039</td>\n",
       "      <td>1.110144</td>\n",
       "      <td>1.088</td>\n",
       "      <td>120.000000</td>\n",
       "    </tr>\n",
       "    <tr>\n",
       "      <th>2</th>\n",
       "      <td>9and7_ERM_augmentation_fgRandom_bgOnly_MixRate...</td>\n",
       "      <td>None</td>\n",
       "      <td>0.7490</td>\n",
       "      <td>0.381</td>\n",
       "      <td>0.732000</td>\n",
       "      <td>0.729</td>\n",
       "      <td>0.251697</td>\n",
       "      <td>0.075342</td>\n",
       "      <td>0.013056</td>\n",
       "      <td>0.303996</td>\n",
       "      <td>...</td>\n",
       "      <td>0</td>\n",
       "      <td>0</td>\n",
       "      <td>55.882353</td>\n",
       "      <td>76.470588</td>\n",
       "      <td>1.033051</td>\n",
       "      <td>1.113000</td>\n",
       "      <td>0.501154</td>\n",
       "      <td>1.133900</td>\n",
       "      <td>1.110</td>\n",
       "      <td>132.352941</td>\n",
       "    </tr>\n",
       "    <tr>\n",
       "      <th>3</th>\n",
       "      <td>9and7_ERM_augmentation_fgRandom_bgOnly_MixRate...</td>\n",
       "      <td>None</td>\n",
       "      <td>0.7620</td>\n",
       "      <td>0.417</td>\n",
       "      <td>0.722267</td>\n",
       "      <td>0.734</td>\n",
       "      <td>0.200766</td>\n",
       "      <td>0.066626</td>\n",
       "      <td>0.014824</td>\n",
       "      <td>0.309995</td>\n",
       "      <td>...</td>\n",
       "      <td>0</td>\n",
       "      <td>0</td>\n",
       "      <td>63.823529</td>\n",
       "      <td>65.294118</td>\n",
       "      <td>1.051763</td>\n",
       "      <td>1.139267</td>\n",
       "      <td>0.528735</td>\n",
       "      <td>1.177159</td>\n",
       "      <td>1.151</td>\n",
       "      <td>129.117647</td>\n",
       "    </tr>\n",
       "    <tr>\n",
       "      <th>4</th>\n",
       "      <td>9and7_ERM_augmentation_fgRandom_bgOnly_MixRate...</td>\n",
       "      <td>None</td>\n",
       "      <td>0.7455</td>\n",
       "      <td>0.461</td>\n",
       "      <td>0.670800</td>\n",
       "      <td>0.694</td>\n",
       "      <td>0.307689</td>\n",
       "      <td>0.095379</td>\n",
       "      <td>0.018034</td>\n",
       "      <td>0.334499</td>\n",
       "      <td>...</td>\n",
       "      <td>0</td>\n",
       "      <td>0</td>\n",
       "      <td>74.705882</td>\n",
       "      <td>25.294118</td>\n",
       "      <td>1.035064</td>\n",
       "      <td>1.131800</td>\n",
       "      <td>0.546455</td>\n",
       "      <td>1.183919</td>\n",
       "      <td>1.155</td>\n",
       "      <td>100.000000</td>\n",
       "    </tr>\n",
       "  </tbody>\n",
       "</table>\n",
       "<p>5 rows × 67 columns</p>\n",
       "</div>"
      ],
      "text/plain": [
       "                                            exp_name  seed  test_id  \\\n",
       "0  9and7_ERM_augmentation_fgRandom_bgOnly_MixRate...  None   0.6995   \n",
       "1  9and7_ERM_augmentation_fgRandom_bgOnly_MixRate...  None   0.7415   \n",
       "2  9and7_ERM_augmentation_fgRandom_bgOnly_MixRate...  None   0.7490   \n",
       "3  9and7_ERM_augmentation_fgRandom_bgOnly_MixRate...  None   0.7620   \n",
       "4  9and7_ERM_augmentation_fgRandom_bgOnly_MixRate...  None   0.7455   \n",
       "\n",
       "   test_ood1  test_ood2  test_ood2ext  rsa_obj_scene_layer1  \\\n",
       "0      0.275   0.752800         0.727              0.191007   \n",
       "1      0.353   0.745067         0.735              0.235267   \n",
       "2      0.381   0.732000         0.729              0.251697   \n",
       "3      0.417   0.722267         0.734              0.200766   \n",
       "4      0.461   0.670800         0.694              0.307689   \n",
       "\n",
       "   rsa_cat_sep_layer1  rsa_co_occure_layer1  prob3_acc_layer1  ...  alg_5  \\\n",
       "0            0.063345              0.014530          0.315507  ...      0   \n",
       "1            0.076299              0.016194          0.344993  ...      0   \n",
       "2            0.075342              0.013056          0.303996  ...      0   \n",
       "3            0.066626              0.014824          0.309995  ...      0   \n",
       "4            0.095379              0.018034          0.334499  ...      0   \n",
       "\n",
       "   alg_6  test_ood1_percentile  test_ood2_percentile  ood1_mix_ood2_norm  \\\n",
       "0      0              8.823529             90.000000            0.970094   \n",
       "1      0             35.294118             84.705882            1.023993   \n",
       "2      0             55.882353             76.470588            1.033051   \n",
       "3      0             63.823529             65.294118            1.051763   \n",
       "4      0             74.705882             25.294118            1.035064   \n",
       "\n",
       "   ood1_mix_ood2_ori  ood1_mix_ood2_hmean  ood1_mix_ood2ext_norm  \\\n",
       "0           1.027800             0.402841               1.019251   \n",
       "1           1.098067             0.479039               1.110144   \n",
       "2           1.113000             0.501154               1.133900   \n",
       "3           1.139267             0.528735               1.177159   \n",
       "4           1.131800             0.546455               1.183919   \n",
       "\n",
       "   ood1_mix_ood2ext_ori  ood1_mix_ood2_percentile  \n",
       "0                 1.002                 98.823529  \n",
       "1                 1.088                120.000000  \n",
       "2                 1.110                132.352941  \n",
       "3                 1.151                129.117647  \n",
       "4                 1.155                100.000000  \n",
       "\n",
       "[5 rows x 67 columns]"
      ]
     },
     "execution_count": 85,
     "metadata": {},
     "output_type": "execute_result"
    }
   ],
   "source": [
    "# add_two_column('test_ood1', 'test_ood2_severe', 'ood1_mix_ood2severe_norm', normalize=True)\n",
    "# add_two_column('test_ood1', 'test_ood2_severe', 'ood1_mix_ood2severe_ori', normalize=False)\n",
    "add_two_column('test_ood1', 'test_ood2', 'ood1_mix_ood2_norm', normalize=True)\n",
    "add_two_column('test_ood1', 'test_ood2', 'ood1_mix_ood2_ori', normalize=False)\n",
    "add_two_column('test_ood1', 'test_ood2', 'ood1_mix_ood2_hmean', normalize=False, HMEAN=True)\n",
    "add_two_column('test_ood1', 'test_ood2ext', 'ood1_mix_ood2ext_norm', normalize=True)\n",
    "add_two_column('test_ood1', 'test_ood2ext', 'ood1_mix_ood2ext_ori', normalize=False)\n",
    "\n",
    "add_two_column('test_ood1_percentile', 'test_ood2_percentile', \n",
    "               'ood1_mix_ood2_percentile', normalize=False)\n",
    "\n",
    "df_sub.head()"
   ]
  },
  {
   "cell_type": "code",
   "execution_count": 86,
   "id": "9685dcd1-57c5-437f-b78e-a24b9eb287ef",
   "metadata": {
    "tags": []
   },
   "outputs": [
    {
     "data": {
      "text/plain": [
       "170"
      ]
     },
     "execution_count": 86,
     "metadata": {},
     "output_type": "execute_result"
    }
   ],
   "source": [
    "len(df_sub)"
   ]
  },
  {
   "cell_type": "code",
   "execution_count": 29,
   "id": "442d90f7-fa89-4fd5-8de1-9051ce6710bf",
   "metadata": {
    "tags": []
   },
   "outputs": [
    {
     "data": {
      "image/png": "[encoded data removed]",
      "text/plain": [
       "<Figure size 432x288 with 1 Axes>"
      ]
     },
     "metadata": {
      "needs_background": "light"
     },
     "output_type": "display_data"
    }
   ],
   "source": [
    "# scatter plot + correlation r\n",
    "# 'rsa_obj_scene_layer4', 'prob3_acc_layer4', 'rel_change-rand_pair-l2-sub_layer4'\n",
    "# 'fact_subspaces_fg_layer3', 'fact_subspaces_bg_layer3', 'inv_subspaces_fg_layer3', 'inv_subspaces_bg_layer3'\n",
    "# 'fact_subspaces_fg_samples100_layer4'\n",
    "name0 = 'rel_change-rand_pair-l2-sub_layer4' \n",
    "\n",
    "# ood1_mix_ood2_ori, ood1_mix_ood2_norm, test_ood1, test_ood2, \n",
    "# ood1_mix_ood2_percentile, test_ood1_percentile, test_ood2_percentile\n",
    "name1 = 'ood1_mix_ood2_norm'\n",
    "\n",
    "x_data, y_data = df_sub[name0].to_numpy(), df_sub[name1].to_numpy()\n",
    "plt.scatter(x_data, y_data, alpha=0.5)\n",
    "plt.xlabel(name0)\n",
    "plt.ylabel(name1)\n",
    "\n",
    "\n",
    "plt.title(f\"{args.dataset} correlation: %.4f\" % (pearsonr(x_data, y_data)[0]))\n",
    "plt.show()"
   ]
  },
  {
   "cell_type": "code",
   "execution_count": 123,
   "id": "f74ef54a-cf27-4902-b5cd-8d31c4081e7d",
   "metadata": {
    "tags": []
   },
   "outputs": [],
   "source": [
    "# func for computing r2 with cv\n",
    "from sklearn.model_selection import cross_val_score, KFold, train_test_split\n",
    "import statsmodels.api as sm\n",
    "from sklearn.metrics import r2_score\n",
    "from sklearn.preprocessing import StandardScaler\n",
    "\n",
    "def p_value(betas):\n",
    "    # calculate p-value for two-sided difference from 0 test with a bootstrapped distribution of statistics, betas\n",
    "    abs_mean_beta = np.abs(np.mean(betas))\n",
    "    centered_betas = betas - np.mean(betas)\n",
    "    outside_prop = np.mean(centered_betas < -abs_mean_beta) + np.mean(centered_betas > abs_mean_beta)\n",
    "    return outside_prop\n",
    "\n",
    "def calc_reg_r2(predictor_classes, predictand_class): # with bootstrap\n",
    "    X = df_sub[predictor_classes].to_numpy()\n",
    "    y = df_sub[predictand_class].to_numpy()\n",
    "    scaler = StandardScaler()\n",
    "    X = scaler.fit_transform(X)\n",
    "    y = scaler.fit_transform(y)\n",
    "    \n",
    "    n_bootstrap = 10000\n",
    "    bootstrap_coefs = np.zeros((n_bootstrap, X.shape[1]))\n",
    "    bootstrap_scores = np.zeros(n_bootstrap)\n",
    "    # Perform bootstrap resampling and fit linear regression model\n",
    "    for i in tqdm(range(n_bootstrap)):\n",
    "        # Generate bootstrap sample indices\n",
    "        X_train, X_test, y_train, y_test = train_test_split(X, y, test_size=0.2, shuffle=True)\n",
    "        # Fit linear regression model\n",
    "        model = LinearRegression()\n",
    "        model.fit(X_train, y_train)\n",
    "        # score = model.score(X_test, y_test)\n",
    "        y_pred = model.predict(X_test)\n",
    "        r2 = r2_score(y_test, y_pred)\n",
    "        bootstrap_scores[i] = r2\n",
    "        bootstrap_coefs[i] = model.coef_\n",
    "    \n",
    "    # compute p-values\n",
    "    p_values = np.zeros(X.shape[1])\n",
    "    for i in range(X.shape[1]):\n",
    "        betas = bootstrap_coefs[:, i]\n",
    "        p_values[i] = p_value(betas)\n",
    "    results = [bootstrap_scores, bootstrap_coefs, p_values]\n",
    "    return results"
   ]
  },
  {
   "cell_type": "code",
   "execution_count": 131,
   "id": "25871a12-f11c-422a-80d8-d68e0b77f1fd",
   "metadata": {},
   "outputs": [
    {
     "name": "stderr",
     "output_type": "stream",
     "text": [
      "100%|███████████████████████████████████| 10000/10000 [00:08<00:00, 1230.91it/s]\n"
     ]
    },
    {
     "name": "stdout",
     "output_type": "stream",
     "text": [
      "test_id: 0.024±0.155\n"
     ]
    },
    {
     "name": "stderr",
     "output_type": "stream",
     "text": [
      "100%|███████████████████████████████████| 10000/10000 [00:08<00:00, 1139.19it/s]"
     ]
    },
    {
     "name": "stdout",
     "output_type": "stream",
     "text": [
      "algo added: 0.019±0.254\n"
     ]
    },
    {
     "name": "stderr",
     "output_type": "stream",
     "text": [
      "\n"
     ]
    }
   ],
   "source": [
    "# baselines\n",
    "predictand_classes = ['ood1_mix_ood2_ori'] \n",
    "# 'ood1_mix_ood2_ori', 'ood1_mix_ood2_hmean', 'ood1_mix_ood2_percentile'\n",
    "# 'test_ood1', 'test_ood2'\n",
    "\n",
    "## using id_acc\n",
    "predictor_classes = ['test_id']\n",
    "r_sq = calc_reg_r2(predictor_classes, predictand_classes)\n",
    "print(f\"test_id: %.3f±%.3f\" % (r_sq[0].mean(), r_sq[0].std()))\n",
    "\n",
    "## using id_acc + algo\n",
    "predictor_classes = ['test_id'] + [f'alg_{i}' for i in range(num_algo)]\n",
    "r_sq = calc_reg_r2(predictor_classes, predictand_classes)\n",
    "print(f\"algo added: %.3f±%.3f\" % (r_sq[0].mean(), r_sq[0].std()))"
   ]
  },
  {
   "cell_type": "code",
   "execution_count": 133,
   "id": "8ce48220-9907-4ece-9e58-705dc34274d0",
   "metadata": {
    "tags": []
   },
   "outputs": [
    {
     "name": "stderr",
     "output_type": "stream",
     "text": [
      "100%|███████████████████████████████████| 10000/10000 [00:09<00:00, 1022.16it/s]\n"
     ]
    },
    {
     "name": "stdout",
     "output_type": "stream",
     "text": [
      "all fact added:\t 0.038±0.302\n"
     ]
    },
    {
     "name": "stderr",
     "output_type": "stream",
     "text": [
      "100%|███████████████████████████████████| 10000/10000 [00:09<00:00, 1093.98it/s]\n"
     ]
    },
    {
     "name": "stdout",
     "output_type": "stream",
     "text": [
      "all wt_evid added:\t -0.040±0.289\n"
     ]
    },
    {
     "name": "stderr",
     "output_type": "stream",
     "text": [
      "100%|████████████████████████████████████| 10000/10000 [00:10<00:00, 975.74it/s]"
     ]
    },
    {
     "name": "stdout",
     "output_type": "stream",
     "text": [
      "all metrics added:\t -0.031±0.332\n"
     ]
    },
    {
     "name": "stderr",
     "output_type": "stream",
     "text": [
      "\n"
     ]
    }
   ],
   "source": [
    "# all fact metrics\n",
    "layer_name_list = ['layer1', 'layer2', 'layer4']\n",
    "all_fact_metrics = [f'rsa_cat_sep_{layer_name}' for layer_name in layer_name_list] + \\\n",
    "                [f'prob3_acc_{layer_name}' for layer_name in layer_name_list] + \\\n",
    "                [f'fact_subspaces_fg_samples10_{layer_name}' for layer_name in layer_name_list]\n",
    "\n",
    "predictor_classes = all_fact_metrics + ['test_id'] + \\\n",
    "                    [f'alg_{i}' for i in range(num_algo)]\n",
    "\n",
    "r_sq_fact = calc_reg_r2(predictor_classes, predictand_classes)\n",
    "print(f\"all fact added:\\t %.3f±%.3f\" % (r_sq_fact[0].mean(), r_sq_fact[0].std()))\n",
    "\n",
    "# all weighted evidence metrics \n",
    "layer_name_list = ['layer1', 'layer2', 'layer4']\n",
    "all_wt_evid_metrics =   [f'rel_change-rand_pair-l2-sub_{layer_name}' for layer_name in layer_name_list] + \\\n",
    "                        ['rel_change-rand_pair-kl-sub_output']\n",
    "\n",
    "predictor_classes = all_wt_evid_metrics + ['test_id'] + \\\n",
    "                    [f'alg_{i}' for i in range(num_algo)]\n",
    "\n",
    "r_sq_wt_evid = calc_reg_r2(predictor_classes, predictand_classes)\n",
    "print(f\"all wt_evid added:\\t %.3f±%.3f\" % (r_sq_wt_evid[0].mean(), r_sq_wt_evid[0].std()))\n",
    "\n",
    "# all metrics\n",
    "all_metrics = all_fact_metrics + all_wt_evid_metrics\n",
    "\n",
    "predictor_classes = all_metrics + ['test_id'] + \\\n",
    "                    [f'alg_{i}' for i in range(num_algo)]\n",
    "\n",
    "r_sq = calc_reg_r2(predictor_classes, predictand_classes)\n",
    "print(f\"all metrics added:\\t %.3f±%.3f\" % (r_sq[0].mean(), r_sq[0].std()))"
   ]
  },
  {
   "cell_type": "code",
   "execution_count": 136,
   "id": "99d76c58-ce83-4fda-b6d0-09f5e7c46f8a",
   "metadata": {
    "tags": []
   },
   "outputs": [
    {
     "name": "stdout",
     "output_type": "stream",
     "text": [
      "-0.039554230068161965 -0.031154003632645897\n"
     ]
    },
    {
     "data": {
      "text/plain": [
       "Ttest_indResult(statistic=-1.9095749073675718, pvalue=0.05620226195675658)"
      ]
     },
     "execution_count": 136,
     "metadata": {},
     "output_type": "execute_result"
    }
   ],
   "source": [
    "from scipy import stats\n",
    "print(r_sq_wt_evid[0].mean(), r_sq[0].mean())\n",
    "stats.ttest_ind(r_sq_wt_evid[0], r_sq[0])"
   ]
  },
  {
   "cell_type": "code",
   "execution_count": null,
   "id": "9e4207b8-85c6-426a-b2b4-9f51620f9ba3",
   "metadata": {},
   "outputs": [],
   "source": [
    "# read prob3\n",
    "h5_file = h5py.File(os.path.join(args.data_dir, \"prob3.h5py\"), \"r\")\n",
    "X_prob3 = h5_file.get('images')[()]\n",
    "y_prob3_fg = h5_file.get('fg_classes')[()]\n",
    "y_prob3_bg = h5_file.get('bg_classes')[()]\n",
    "y_prob3 = np.zeros(y_prob3_fg.shape)\n",
    "y_prob3[:1000] = y_prob3_fg[:1000]\n",
    "y_prob3[1000:] = y_prob3_bg[1000:]+10\n",
    "mask_size_prob3 = h5_file.get('mask_size')[()]\n",
    "h5_file.close()\n",
    "\n",
    "ref_matrix, ref_matrix_cat_specific, ref_matrix_co_occur = metrics.create_target_rdm(args.data_dir)"
   ]
  },
  {
   "cell_type": "code",
   "execution_count": null,
   "id": "4a821068-6e9d-4a4d-b5a5-ea31cf30b3b2",
   "metadata": {},
   "outputs": [],
   "source": [
    "# plot reference RDM\n",
    "for ref_id, ref in enumerate([ref_matrix, ref_matrix_cat_specific, ref_matrix_co_occur]):\n",
    "    plt.figure(figsize=(7.5,6))\n",
    "\n",
    "    import matplotlib\n",
    "    matplotlib.rcParams.update({'font.size': 15})\n",
    "    plt.imshow(ref, cmap='coolwarm')\n",
    "    plt.colorbar()\n",
    "    plt.title(\"Reference RDM\")\n",
    "    plt.savefig(f\"./fig/RDM_target_{ref_id}.png\", format=\"png\", dpi=500, bbox_inches = \"tight\")\n",
    "    plt.show()"
   ]
  },
  {
   "cell_type": "code",
   "execution_count": null,
   "id": "ce2d8ebe-ac36-4406-bbfe-fa1bc59052d1",
   "metadata": {
    "tags": []
   },
   "outputs": [],
   "source": [
    "## get model RDM\n",
    "# get probe set\n",
    "dataset = utils.SimpleDataset_masksize(X_prob3, y_prob3, mask_size_prob3)\n",
    "data_loader_prob3 = torch.utils.data.DataLoader(dataset=dataset, batch_size=256,\n",
    "                                                 num_workers=0, shuffle=False)\n",
    "\n",
    "# get model\n",
    "args.algorithm = \"ERM_augmentation\"\n",
    "_seed=0\n",
    "_mix_rate=0.3\n",
    "args.use_two_labels = True\n",
    "args.use_mask = True\n",
    "args.aug_fg = True\n",
    "args.aug_bg = True\n",
    "args.trial_seed = _seed\n",
    "_exp_name = f\"{args.bias}_ERM_augmentation_fgRandom_bgOnly_MixRate{_mix_rate}_seed{args.trial_seed}\"\n",
    "args.exp_name = _exp_name\n",
    "\n",
    "eval_names = []\n",
    "_, model = utils.init_data_model(args, eval_names)\n",
    "\n",
    "# get model FEATS\n",
    "FEATS = utils.get_feats(args, model, data_loader_prob3, ['layer3'], apply_pca=True)"
   ]
  },
  {
   "cell_type": "code",
   "execution_count": null,
   "id": "bfe92a30-63d9-4817-a55b-72a86b66fb24",
   "metadata": {
    "tags": []
   },
   "outputs": [],
   "source": [
    "# get model RDM\n",
    "X = FEATS['layer4'] \n",
    "num_samples = len(X)\n",
    "data = rsatoolbox.data.Dataset(X.reshape(num_samples,-1))\n",
    "rdms = rsatoolbox.rdm.calc_rdm(data)\n",
    "rdm_matrices = rdms.get_matrices().squeeze()\n",
    "\n",
    "plt.hist(rdm_matrices.reshape(-1))\n",
    "plt.show()"
   ]
  },
  {
   "cell_type": "code",
   "execution_count": null,
   "id": "0fd92376-a9ed-4e8e-bc97-d6a2306b1665",
   "metadata": {
    "tags": []
   },
   "outputs": [],
   "source": [
    "# clip + norm for better vis\n",
    "upper_bound = 0.5\n",
    "rdm_matrices[rdm_matrices>upper_bound] = upper_bound\n",
    "rdm_matrices = rdm_matrices / rdm_matrices.max()"
   ]
  },
  {
   "cell_type": "code",
   "execution_count": null,
   "id": "4639ba50-a597-4950-a0c8-7f5946e20942",
   "metadata": {
    "tags": []
   },
   "outputs": [],
   "source": [
    "# plot reference RDM\n",
    "plt.figure(figsize=(7.5,6))\n",
    "\n",
    "import matplotlib\n",
    "matplotlib.rcParams.update({'font.size': 15})\n",
    "plt.imshow(rdm_matrices, cmap='coolwarm')\n",
    "plt.title(\"Model RDM\")\n",
    "plt.colorbar()\n",
    "plt.savefig(f\"./fig/RDM_model.png\", format=\"png\", dpi=500, bbox_inches = \"tight\")\n",
    "plt.show()"
   ]
  },
  {
   "cell_type": "code",
   "execution_count": null,
   "id": "db693078-e3ad-458d-b930-68a570ddb102",
   "metadata": {
    "tags": []
   },
   "outputs": [],
   "source": [
    "pearsonr(ref_matrix.reshape(-1), rdm_matrices.reshape(-1))"
   ]
  },
  {
   "cell_type": "code",
   "execution_count": null,
   "id": "444a4487-b7ba-4788-a8e7-3c11432183f4",
   "metadata": {},
   "outputs": [],
   "source": [
    "dataset_name = 'test_ood1'\n",
    "h5_cocoscene = h5py.File(f\"../data/cocoplaces/{dataset_name}.h5py\", \"r\")\n",
    "cocoscene_imgs = h5_cocoscene['images']\n",
    "cocoscene_fg_classes = h5_cocoscene['fg_classes']\n",
    "cocoscene_fg_indexes = h5_cocoscene['fg_indexes']\n",
    "cocoscene_bg_classes = h5_cocoscene['bg_classes']\n",
    "cocoscene_bg_indexes = h5_cocoscene['bg_indexes']"
   ]
  },
  {
   "cell_type": "code",
   "execution_count": null,
   "id": "2a9a72ee-18a0-420c-8ee2-287af16c574a",
   "metadata": {},
   "outputs": [],
   "source": [
    "# create new dataset\n",
    "fname = os.path.join(f\"../data/cocoplaces/prob_dp_level_{dataset_name}.h5py\")\n",
    "if os.path.exists(fname): subprocess.call(['rm', fname])\n",
    "h5_file = h5py.File(fname, mode='w')\n",
    "h5_file.create_dataset('images', (2000,3,64,64), dtype=np.dtype('float32'))\n",
    "h5_file.create_dataset('fg_classes', (2000,), dtype=np.dtype('int32'))\n",
    "h5_file.create_dataset('bg_classes', (2000,), dtype=np.dtype('int32'))\n",
    "h5_file.create_dataset('classes', (2000,), dtype=np.dtype('int32'))\n",
    "num_imgs_pre_class = 100\n",
    "place_img_index_start = 800\n",
    "masks = coco_test_masks\n",
    "imgs = coco_test_imgs\n",
    "\n",
    "for class_index in tqdm(range(10)):\n",
    "    for image_index in range(num_imgs_pre_class):\n",
    "        _index = class_index*num_imgs_pre_class + image_index\n",
    "        # get mask and img\n",
    "        _mask = masks[_index]\n",
    "        _coco_img = imgs[_index]\n",
    "        # get place\n",
    "        place_class_index = cocoscene_bg_classes[_index]\n",
    "        place_img_index = cocoscene_bg_indexes[_index]\n",
    "        _place_img = places_imges[place_class_index][place_img_index]\n",
    "\n",
    "        # record fg \n",
    "        h5_file[\"images\"][_index*2] = _coco_img * _mask\n",
    "        h5_file[\"fg_classes\"][_index*2] = class_index\n",
    "        h5_file[\"bg_classes\"][_index*2] = -1\n",
    "        h5_file[\"classes\"][_index*2] = class_index \n",
    "        # record bg \n",
    "        h5_file[\"images\"][_index*2+1] = _place_img\n",
    "        h5_file[\"fg_classes\"][_index*2+1] = -1\n",
    "        h5_file[\"bg_classes\"][_index*2+1] = place_class_index\n",
    "        h5_file[\"classes\"][_index*2+1] = place_class_index + 10 \n",
    "h5_file.close()"
   ]
  },
  {
   "cell_type": "code",
   "execution_count": null,
   "id": "8d356b3a-4691-4bdd-a77b-3b7d1a492b0e",
   "metadata": {},
   "outputs": [],
   "source": [
    "h5_cocoscene.close()"
   ]
  }
 ],
 "metadata": {
  "kernelspec": {
   "display_name": "Python 3 (ipykernel)",
   "language": "python",
   "name": "python3"
  },
  "language_info": {
   "codemirror_mode": {
    "name": "ipython",
    "version": 3
   },
   "file_extension": ".py",
   "mimetype": "text/x-python",
   "name": "python",
   "nbconvert_exporter": "python",
   "pygments_lexer": "ipython3",
   "version": "3.7.1"
  },
  "toc-autonumbering": true
 },
 "nbformat": 4,
 "nbformat_minor": 5
}
