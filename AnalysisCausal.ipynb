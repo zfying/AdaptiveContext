{
 "cells": [
  {
   "cell_type": "code",
   "execution_count": 1,
   "id": "ff60afc7-8e7c-4d40-9ac3-377f2d1838ec",
   "metadata": {
    "tags": []
   },
   "outputs": [],
   "source": [
    "import numpy as np\n",
    "import matplotlib.pyplot as plt\n",
    "\n",
    "import torch\n",
    "import torch.nn as nn\n",
    "import torch.nn.functional as F\n",
    "\n",
    "import pickle\n",
    "import json\n",
    "from tqdm import tqdm\n",
    "import os, subprocess\n",
    "import h5py\n",
    "import random\n",
    "import collections\n",
    "import time"
   ]
  },
  {
   "cell_type": "code",
   "execution_count": 2,
   "id": "bb584b05-16d2-49a7-9514-4ad3c1e713fe",
   "metadata": {
    "tags": []
   },
   "outputs": [],
   "source": [
    "from importlib import reload"
   ]
  },
  {
   "cell_type": "code",
   "execution_count": 3,
   "id": "fa97907d-7424-4ce8-90b6-bb0a8d0ab39f",
   "metadata": {
    "tags": []
   },
   "outputs": [],
   "source": [
    "import pandas as pd\n",
    "from scipy.stats import pearsonr"
   ]
  },
  {
   "cell_type": "code",
   "execution_count": 4,
   "id": "271d21df-1880-43bf-b730-1ab4dc7e9ea6",
   "metadata": {
    "tags": []
   },
   "outputs": [],
   "source": [
    "from sklearn.linear_model import LogisticRegression, LinearRegression\n",
    "from sklearn.model_selection import StratifiedKFold\n",
    "from sklearn import svm\n",
    "from sklearn.svm import SVC\n",
    "from sklearn.preprocessing import StandardScaler\n",
    "from sklearn.decomposition import PCA"
   ]
  },
  {
   "cell_type": "code",
   "execution_count": 5,
   "id": "843785e8-95cf-4f78-a8f4-2b9191d8dd33",
   "metadata": {
    "tags": []
   },
   "outputs": [],
   "source": [
    "import rsatoolbox"
   ]
  },
  {
   "cell_type": "code",
   "execution_count": 6,
   "id": "8330332c-6577-4bee-8c42-5be4e6d9b885",
   "metadata": {
    "tags": []
   },
   "outputs": [],
   "source": [
    "np.random.seed(7)\n",
    "torch.manual_seed(7)\n",
    "random.seed(7)"
   ]
  },
  {
   "cell_type": "code",
   "execution_count": 7,
   "id": "f9b84007-5808-4132-8ece-184aeef373fa",
   "metadata": {
    "tags": []
   },
   "outputs": [],
   "source": [
    "from domainbed import hparams_registry\n",
    "from domainbed import algorithms\n",
    "from domainbed.lib import misc"
   ]
  },
  {
   "cell_type": "code",
   "execution_count": 8,
   "id": "e6ea2de5-2e4e-42d2-9bbd-14bb5792803d",
   "metadata": {
    "tags": []
   },
   "outputs": [],
   "source": [
    "os.environ[\"CUDA_VISIBLE_DEVICES\"] = \"0\""
   ]
  },
  {
   "cell_type": "code",
   "execution_count": 9,
   "id": "d67b1c01-1960-46a0-8339-04f26f66750e",
   "metadata": {
    "tags": []
   },
   "outputs": [],
   "source": [
    "import utils\n",
    "import metrics"
   ]
  },
  {
   "cell_type": "code",
   "execution_count": 54,
   "id": "62be5337-541c-4189-9620-aeb7d4ceb909",
   "metadata": {
    "tags": []
   },
   "outputs": [],
   "source": [
    "# choose between SceneCOCO, ColorObject\n",
    "args = utils.load_param(\"ColorObject\")\n",
    "# args = utils.load_param(\"SceneCOCO\")"
   ]
  },
  {
   "cell_type": "code",
   "execution_count": 42,
   "id": "4e5467d5-79fd-4c7e-9ed8-a0b69be18268",
   "metadata": {
    "tags": []
   },
   "outputs": [],
   "source": [
    "#  read file\n",
    "with open(f'saved_dict_causal_{args.dataset}.pkl', 'rb') as f:\n",
    "    saved_dict = pickle.load(f)"
   ]
  },
  {
   "cell_type": "markdown",
   "id": "6454d606-4ccc-4d0e-b2a2-d500e5aa5fee",
   "metadata": {
    "tags": []
   },
   "source": [
    "# causal - fact"
   ]
  },
  {
   "cell_type": "markdown",
   "id": "0b7d95e9-c69a-4f1f-8bc4-87467fbd5f87",
   "metadata": {
    "tags": []
   },
   "source": [
    "## setup"
   ]
  },
  {
   "cell_type": "code",
   "execution_count": 21,
   "id": "f7b2e86f-4617-4b66-955c-a0e1556779b8",
   "metadata": {
    "tags": []
   },
   "outputs": [],
   "source": [
    "# read subspaces sets\n",
    "num_rand_pairs = 100\n",
    "h5_file = h5py.File(os.path.join(args.data_dir, f\"test_subspaces_sample{num_rand_pairs}.h5py\"), \"r\")\n",
    "X_subspaces = h5_file.get('images')[()]\n",
    "y_fg_classes_subspaces = h5_file.get('fg_classes')[()]\n",
    "y_fg_indexes_subspaces = h5_file.get('fg_indexes')[()]\n",
    "y_bg_classes_subspaces = h5_file.get('bg_classes')[()]\n",
    "if args.dataset == \"SceneCOCO\":\n",
    "    y_bg_indexes_subspaces = h5_file.get('bg_indexes')[()]\n",
    "else:\n",
    "    y_bg_indexes_subspaces = None\n",
    "\n",
    "h5_file.close()\n",
    "\n",
    "# dataloader - subspaces\n",
    "dataset = utils.SimpleDataset_masksize(X_subspaces, np.zeros(X_subspaces.shape[0]), np.zeros(X_subspaces.shape[0]))\n",
    "data_loader_subspaces = torch.utils.data.DataLoader(dataset=dataset, batch_size=256,\n",
    "                                                 num_workers=0, shuffle=False)"
   ]
  },
  {
   "cell_type": "code",
   "execution_count": 22,
   "id": "a68747f5-178d-428c-ae71-fef34e27fe5e",
   "metadata": {
    "tags": []
   },
   "outputs": [],
   "source": [
    "# read ood1\n",
    "h5_file = h5py.File(os.path.join(args.data_dir, \"test_ood1.h5py\"), \"r\")\n",
    "X_OOD1 = h5_file.get('images')[()]\n",
    "y_OOD1_fg = h5_file.get('fg_classes')[()]\n",
    "y_OOD1_bg = h5_file.get('bg_classes')[()]\n",
    "mask_size_OOD1 = np.zeros(X_OOD1.shape)\n",
    "h5_file.close()\n",
    "\n",
    "# probe set - ood1\n",
    "dataset = utils.SimpleDataset_masksize(X_OOD1, y_OOD1_fg, mask_size_OOD1)\n",
    "data_loader_OOD1 = torch.utils.data.DataLoader(dataset=dataset, batch_size=256,\n",
    "                                                 num_workers=0, shuffle=False)"
   ]
  },
  {
   "cell_type": "code",
   "execution_count": 23,
   "id": "8e53f8eb-60d0-4c49-9902-59fbc2c75336",
   "metadata": {
    "tags": []
   },
   "outputs": [],
   "source": [
    "# read ood2\n",
    "h5_file = h5py.File(os.path.join(args.data_dir, \"test_ood20.1.h5py\"), \"r\")\n",
    "X_OOD2 = h5_file.get('images')[()]\n",
    "y_OOD2_fg = h5_file.get('fg_classes')[()]\n",
    "y_OOD2_bg = h5_file.get('bg_classes')[()]\n",
    "mask_size_OOD2 = np.zeros(X_OOD2.shape)\n",
    "h5_file.close()\n",
    "\n",
    "# probe set - ood2\n",
    "dataset = utils.SimpleDataset_masksize(X_OOD2, y_OOD2_fg, mask_size_OOD2)\n",
    "data_loader_OOD2 = torch.utils.data.DataLoader(dataset=dataset, batch_size=256,\n",
    "                                                 num_workers=0, shuffle=False)"
   ]
  },
  {
   "cell_type": "code",
   "execution_count": 24,
   "id": "cc3d656e-11bc-4756-b4cb-84a33d1e3d47",
   "metadata": {
    "tags": []
   },
   "outputs": [
    {
     "data": {
      "text/plain": [
       "((200000, 3, 64, 64), (2, 10, 100, 100, 3, 64, 64))"
      ]
     },
     "execution_count": 24,
     "metadata": {},
     "output_type": "execute_result"
    }
   ],
   "source": [
    "imgs = X_subspaces.reshape((2, 10, 100, num_rand_pairs, 3, 64, 64))\n",
    "X_subspaces.shape, imgs.shape"
   ]
  },
  {
   "cell_type": "code",
   "execution_count": 25,
   "id": "a370bb2c-8b7b-45a4-860a-b25da987fb39",
   "metadata": {
    "tags": []
   },
   "outputs": [
    {
     "data": {
      "image/png": "[encoded data removed]",
      "text/plain": [
       "<Figure size 702x720 with 100 Axes>"
      ]
     },
     "metadata": {
      "needs_background": "light"
     },
     "output_type": "display_data"
    }
   ],
   "source": [
    "type_index = 0 # 0,1\n",
    "class_index = 5 # 0-9\n",
    "fg_index = 4 # 0-99\n",
    "all_imges = []\n",
    "for sample_index in range(100):\n",
    "    all_imges.append(imgs[type_index, class_index, fg_index, sample_index].transpose([1,2,0]))\n",
    "    \n",
    "# set figure size and subplot size\n",
    "fig, axs = plt.subplots(10, 10, figsize=(9.75, 10), gridspec_kw=dict(wspace=0, hspace=0))\n",
    "\n",
    "# loop through the rows and columns of the grid\n",
    "for i in range(10):\n",
    "    for j in range(10):\n",
    "        # plot the corresponding image in the grid\n",
    "        axs[i,j].imshow(all_imges[i*10+j], cmap='gray')\n",
    "        axs[i,j].axis('off')"
   ]
  },
  {
   "cell_type": "markdown",
   "id": "e8d6293c-022d-4102-8ad0-decb2116f2a0",
   "metadata": {
    "tags": []
   },
   "source": [
    "## main exps"
   ]
  },
  {
   "cell_type": "code",
   "execution_count": 26,
   "id": "673d0f2c-a4ba-484f-9d27-812753b1b750",
   "metadata": {
    "tags": []
   },
   "outputs": [],
   "source": [
    "def get_pc_spaces(FEATS_subspaces, y_classes, y_indexes):\n",
    "    labels = y_classes[:1000*num_rand_pairs]\n",
    "    data = FEATS_subspaces['layer4'][:1000*num_rand_pairs]\n",
    "    final_dim = 10\n",
    "    # Compute class centers \n",
    "    unique_labels = np.unique(labels)\n",
    "    class_centers = np.zeros((len(unique_labels), data.shape[1]))\n",
    "    for i, label in enumerate(unique_labels):\n",
    "        class_centers[i, :] = np.mean(data[labels == label], axis=0)\n",
    "    # Compute inter-class PCs\n",
    "    inter_class_pca = PCA()\n",
    "    inter_class_pca.fit(class_centers)\n",
    "    # Compute intra-class PCs\n",
    "    intra_class_data = np.zeros_like(data)\n",
    "    for i, label in enumerate(unique_labels):\n",
    "        intra_class_data[labels == label] = data[labels == label] - class_centers[i]\n",
    "    intra_class_pca = PCA()\n",
    "    intra_class_pca.fit(intra_class_data)\n",
    "\n",
    "    return inter_class_pca, intra_class_pca\n",
    "\n",
    "def transform_data(ori_inputs, ori_outputs, transformation_matrix):\n",
    "    # get class centers\n",
    "    unique_labels = np.unique(ori_outputs)\n",
    "    class_centers = np.zeros((len(unique_labels), ori_inputs.shape[1]))\n",
    "    for i, label in enumerate(unique_labels):\n",
    "        class_centers[i, :] = np.mean(ori_inputs[ori_outputs == label], axis=0)\n",
    "    # get intra-class data\n",
    "    intra_class_data = np.zeros_like(ori_inputs)\n",
    "    for i, label in enumerate(unique_labels):\n",
    "        intra_class_data[ori_outputs == label] = ori_inputs[ori_outputs == label] - class_centers[i]\n",
    "    # transform\n",
    "    transformed_class_centers = np.dot(class_centers, transformation_matrix.T)\n",
    "    transformed_data = np.zeros_like(ori_inputs)\n",
    "    for i, label in enumerate(unique_labels):\n",
    "        transformed_data[ori_outputs == label] = intra_class_data[ori_outputs == label] + transformed_class_centers[i]\n",
    "    \n",
    "    return transformed_data\n",
    "\n",
    "def decrease_fact(args, saved_dict, y_classes, y_indexes):\n",
    "    print(args.exp_name)\n",
    "    # get data and model\n",
    "    _, model = utils.init_data_model(args, [])\n",
    "    FEATS_subspaces = utils.get_feats(args, model, data_loader_subspaces, [\"layer3\"])\n",
    "    FEATS_OOD1 = utils.get_feats(args, model, data_loader_OOD1, [\"layer3\"])\n",
    "    FEATS_OOD2 = utils.get_feats(args, model, data_loader_OOD2, [\"layer3\"])\n",
    "    \n",
    "    ## get subspaces\n",
    "    inter_class_pca, intra_class_pca = get_pc_spaces(FEATS_subspaces, y_classes, y_indexes)\n",
    "    \n",
    "    ## get transformation matrix\n",
    "    final_dim = inter_class_pca.components_.shape[0]\n",
    "    transformation_matrix = np.dot(inter_class_pca.components_.T, intra_class_pca.components_[:final_dim]).T # for Method 2 & 3\n",
    "    \n",
    "    ## transform the all the data\n",
    "    transformed_data = np.dot(FEATS_subspaces['layer4'], transformation_matrix.T)\n",
    "    \n",
    "    ## compute factorization \n",
    "    # metrics_ori = metrics.compute_fact_subspaces(args, None, FEATS_subspaces, \"10\", False) # used in neurips main\n",
    "    # metrics_trans = metrics.compute_fact_subspaces(args, None, {'layer4': transformed_data}, \"10\", False) # used in neurips main\n",
    "    metrics_ori = metrics.compute_fact_subspaces(args, None, FEATS_subspaces, \"1000\", False)\n",
    "    metrics_trans = metrics.compute_fact_subspaces(args, None, {'layer4': transformed_data}, \"1000\", False)\n",
    "    \n",
    "    # get OOD acc \n",
    "    acc_ori_ood1 = metrics.cv_test(FEATS_OOD1['layer4'], y_OOD1_fg, 5)\n",
    "    acc_trans_ood1 = metrics.cv_test(transform_data(FEATS_OOD1['layer4'], y_OOD1_fg, transformation_matrix), \n",
    "                                    y_OOD1_fg, 5)\n",
    "    acc_ori_ood2 = metrics.cv_test(FEATS_OOD2['layer4'], y_OOD2_fg, 5)\n",
    "    acc_trans_ood2 = metrics.cv_test(transform_data(FEATS_OOD2['layer4'], y_OOD2_fg, transformation_matrix), \n",
    "                                    y_OOD2_fg, 5)\n",
    "    \n",
    "    acc_ori = (acc_ori_ood1[0]+acc_ori_ood2[0])/2, (acc_ori_ood1[1]+acc_ori_ood2[1])/2\n",
    "    acc_trans = (acc_trans_ood1[0]+acc_trans_ood2[0])/2, (acc_trans_ood1[1]+acc_trans_ood2[1])/2\n",
    "    \n",
    "    return metrics_ori, acc_ori_ood1, acc_ori_ood2, metrics_trans, acc_trans_ood1, acc_trans_ood2"
   ]
  },
  {
   "cell_type": "code",
   "execution_count": null,
   "id": "04a3c7ac-192c-476e-8fbf-a9a2ffda356a",
   "metadata": {},
   "outputs": [],
   "source": [
    "## run causal fact exps\n",
    "## 10 ERM - ColorObject & SceneObject\n",
    "seed_list = [0, 7, 77, 8, 88, \n",
    "            1, 777, 7777, 888, 8888]\n",
    "\n",
    "metrics_ori_list = []\n",
    "acc_ood1_ori_list = []\n",
    "acc_ood2_ori_list = []\n",
    "metrics_trans_list = []\n",
    "acc_ood1_trans_list = []\n",
    "acc_ood2_trans_list = []\n",
    "\n",
    "# ERM model\n",
    "args.use_two_labels = False\n",
    "args.use_mask = False\n",
    "args.algorithm = _algo = \"ERM\"\n",
    "    \n",
    "for _seed in seed_list:\n",
    "    args.trial_seed = _seed\n",
    "    _exp_name=f\"{args.bias}_ERM_seed{args.trial_seed}\"\n",
    "    args.exp_name = _exp_name\n",
    "\n",
    "    results = decrease_fact(args, saved_dict, y_fg_classes_subspaces, y_fg_indexes_subspaces)\n",
    "    metrics_ori, acc_ori_ood1, acc_ori_ood2, metrics_trans, acc_trans_ood1, acc_trans_ood2 = results\n",
    "    \n",
    "    saved_dict[args.exp_name] = {}\n",
    "    saved_dict[args.exp_name]['metrics_ori'] = metrics_ori\n",
    "    saved_dict[args.exp_name]['acc_ori_ood1'] = acc_ori_ood1\n",
    "    saved_dict[args.exp_name]['acc_ori_ood2'] = acc_ori_ood2\n",
    "    saved_dict[args.exp_name]['metrics_trans'] = metrics_trans\n",
    "    saved_dict[args.exp_name]['acc_trans_ood1'] = acc_trans_ood1\n",
    "    saved_dict[args.exp_name]['acc_trans_ood2'] = acc_trans_ood2"
   ]
  },
  {
   "cell_type": "code",
   "execution_count": 28,
   "id": "996433e8-050b-4439-b244-f4ce392d8850",
   "metadata": {
    "tags": []
   },
   "outputs": [],
   "source": [
    "# save stuff\n",
    "with open(f'saved_dict_causal_{args.dataset}.pkl', 'wb') as f:\n",
    "    pickle.dump(saved_dict, f)"
   ]
  },
  {
   "cell_type": "markdown",
   "id": "9ed0c1a3-cb73-40b7-a2a4-5a7d211bedc7",
   "metadata": {
    "tags": []
   },
   "source": [
    "## plot"
   ]
  },
  {
   "cell_type": "code",
   "execution_count": 55,
   "id": "449780c9-b087-4f12-ab14-abd66fa2c82e",
   "metadata": {
    "tags": []
   },
   "outputs": [],
   "source": [
    "#  read stuff\n",
    "with open(f'saved_dict_causal_{args.dataset}.pkl', 'rb') as f:\n",
    "    saved_dict = pickle.load(f)"
   ]
  },
  {
   "cell_type": "code",
   "execution_count": 56,
   "id": "e97977b0-c751-451f-8ce0-0d95afa5806f",
   "metadata": {
    "tags": []
   },
   "outputs": [],
   "source": [
    "# read results\n",
    "fact_before = np.zeros(10)\n",
    "fact_after = np.zeros(10)\n",
    "ood1_before = np.zeros(10)\n",
    "ood1_after = np.zeros(10)\n",
    "ood2_before = np.zeros(10)\n",
    "ood2_after = np.zeros(10)\n",
    "\n",
    "\n",
    "for seed_index, _seed in enumerate(seed_list):\n",
    "    _exp_name=f\"{args.bias}_ERM_seed{_seed}\"\n",
    "    \n",
    "    fact_before[seed_index] = saved_dict[_exp_name]['metrics_ori'][0]\n",
    "    ood1_before[seed_index] = saved_dict[_exp_name]['acc_ori_ood1'][0]\n",
    "    ood2_before[seed_index] = saved_dict[_exp_name]['acc_ori_ood2'][0]\n",
    "    \n",
    "    fact_after[seed_index] = saved_dict[_exp_name]['metrics_trans'][0]\n",
    "    ood1_after[seed_index] = saved_dict[_exp_name]['acc_trans_ood1'][0]\n",
    "    ood2_after[seed_index] = saved_dict[_exp_name]['acc_trans_ood2'][0]"
   ]
  },
  {
   "cell_type": "code",
   "execution_count": 57,
   "id": "773db227-4384-4953-b20c-3eaf43ebdba7",
   "metadata": {
    "tags": []
   },
   "outputs": [
    {
     "data": {
      "image/png": "[encoded data removed]",
      "text/plain": [
       "<Figure size 432x288 with 2 Axes>"
      ]
     },
     "metadata": {
      "needs_background": "light"
     },
     "output_type": "display_data"
    }
   ],
   "source": [
    "import matplotlib\n",
    "matplotlib.rcParams.update({'font.size': 13})\n",
    "\n",
    "dataset_name = args.dataset # ColorObject, SceneObject\n",
    "\n",
    "metrics1_before = fact_before.mean()\n",
    "metrics1_after = fact_after.mean()\n",
    "metrics2_before = np.array([ood1_before.mean(), ood2_before.mean()]) * 100\n",
    "metrics2_after = np.array([ood1_after.mean(), ood2_after.mean()]) * 100\n",
    "\n",
    "errors1_before = fact_before.std()\n",
    "errors1_after = fact_after.std()\n",
    "errors2_before = np.array([ood1_before.std(), ood2_before.std()]) * 100\n",
    "errors2_after = np.array([ood1_after.std(), ood2_after.std()]) * 100\n",
    "    \n",
    "bar_width = 0.3\n",
    "opacity = 0.8\n",
    "\n",
    "\n",
    "fig, ax1 = plt.subplots()\n",
    "\n",
    "# Plotting the first metric\n",
    "rects1 = ax1.bar(np.arange(1)-bar_width*0.5, metrics1_before, bar_width, alpha=opacity, color='grey', yerr=errors1_before, label='Original data')\n",
    "rects2 = ax1.bar(np.arange(1)+bar_width*0.5, metrics1_after, bar_width, alpha=opacity, color='lightgrey', yerr=errors1_after, label='Transformed data')\n",
    "\n",
    "ax1.set_ylabel('Factorization')\n",
    "ax1.tick_params('y')\n",
    "if dataset_name == 'SceneCOCO':\n",
    "    ax1.set_ylim(0, 0.02)\n",
    "elif dataset_name == 'ColorObject':\n",
    "    ax1.set_ylim(0, 0.90)\n",
    "\n",
    "# Adding a second y axis for the second metric\n",
    "# burlywood, antiquewhite\n",
    "ax2 = ax1.twinx()\n",
    "rects3 = ax2.bar(np.arange(2)+1 - bar_width*0.5, metrics2_before, bar_width, alpha=opacity, color='darkgreen', yerr=errors2_before, label='Original data')\n",
    "rects4 = ax2.bar(np.arange(2)+1 + bar_width*0.5, metrics2_after, bar_width, alpha=opacity, color='limegreen', yerr=errors2_after, label='Transformed data')\n",
    "\n",
    "ax2.set_ylabel('OOD accuracy (%)')\n",
    "ax2.tick_params('y')\n",
    "if dataset_name == 'SceneCOCO':\n",
    "    ax2.set_ylim(20,100)\n",
    "elif dataset_name == 'ColorObject':\n",
    "    ax2.set_ylim(20,110)\n",
    "\n",
    "\n",
    "# Adding legends\n",
    "fig.tight_layout()\n",
    "fig.legend(loc='center', bbox_to_anchor=(0.5, 1.1), ncol=2)\n",
    "\n",
    "# Adding xticks \n",
    "plt.xticks(np.arange(3), ('Factorization', 'Background\\nInvariance', 'Object\\nDisambiguation'))\n",
    "plt.title(f'{dataset_name}')\n",
    "plt.savefig(f\"./fig/causal_fact_new_{dataset_name}.pdf\", format=\"pdf\", dpi=500, bbox_inches = \"tight\")\n",
    "plt.show()"
   ]
  },
  {
   "cell_type": "markdown",
   "id": "b381ecae-fd5d-4a40-8c66-9be55fd524c8",
   "metadata": {
    "tags": []
   },
   "source": [
    "# casual - wt evid"
   ]
  },
  {
   "cell_type": "markdown",
   "id": "62d04908-da18-4556-b54c-afa44e8f850b",
   "metadata": {
    "tags": []
   },
   "source": [
    "## main exp"
   ]
  },
  {
   "cell_type": "code",
   "execution_count": 62,
   "id": "dc9591f8-bdd2-4e3f-93be-20f269ab2851",
   "metadata": {
    "tags": []
   },
   "outputs": [],
   "source": [
    "# read subspaces sets\n",
    "num_rand_pairs = 100\n",
    "h5_file = h5py.File(os.path.join(args.data_dir, f\"test_subspaces_sample{num_rand_pairs}.h5py\"), \"r\")\n",
    "X_subspaces = h5_file.get('images')[()]\n",
    "y_fg_classes_subspaces = h5_file.get('fg_classes')[()]\n",
    "y_bg_classes_subspaces = h5_file.get('bg_classes')[()]\n",
    "\n",
    "h5_file.close()\n",
    "# dataloader - subspaces\n",
    "dataset = utils.SimpleDataset_masksize(X_subspaces, np.zeros(X_subspaces.shape[0]), np.zeros(X_subspaces.shape[0]))\n",
    "data_loader_subspaces = torch.utils.data.DataLoader(dataset=dataset, batch_size=256,\n",
    "                                                 num_workers=0, shuffle=False)"
   ]
  },
  {
   "cell_type": "code",
   "execution_count": 63,
   "id": "8dc720d3-3a6c-4aed-8e11-6cdb5efffa75",
   "metadata": {
    "tags": []
   },
   "outputs": [],
   "source": [
    "# read ood1\n",
    "h5_file = h5py.File(os.path.join(args.data_dir, \"test_ood1.h5py\"), \"r\")\n",
    "X_OOD1 = h5_file.get('images')[()]\n",
    "y_OOD1_fg = h5_file.get('fg_classes')[()]\n",
    "y_OOD1_bg = h5_file.get('bg_classes')[()]\n",
    "mask_size_OOD1 = np.zeros(X_OOD1.shape)\n",
    "h5_file.close()\n",
    "\n",
    "dataset = utils.SimpleDataset_masksize(X_OOD1, y_OOD1_fg, mask_size_OOD1)\n",
    "data_loader_OOD1 = torch.utils.data.DataLoader(dataset=dataset, batch_size=256,\n",
    "                                                 num_workers=0, shuffle=False)\n",
    "\n",
    "# read ood2\n",
    "h5_file = h5py.File(os.path.join(args.data_dir, \"test_ood20.1.h5py\"), \"r\")\n",
    "X_OOD2 = h5_file.get('images')[()]\n",
    "y_OOD2_fg = h5_file.get('fg_classes')[()]\n",
    "y_OOD2_bg = h5_file.get('bg_classes')[()]\n",
    "mask_size_OOD2 = np.zeros(X_OOD2.shape)\n",
    "h5_file.close()\n",
    "\n",
    "dataset = utils.SimpleDataset_masksize(X_OOD2, y_OOD2_fg, mask_size_OOD2)\n",
    "data_loader_OOD2 = torch.utils.data.DataLoader(dataset=dataset, batch_size=256,\n",
    "                                                 num_workers=0, shuffle=False)"
   ]
  },
  {
   "cell_type": "code",
   "execution_count": 64,
   "id": "aabf9381-526a-4770-8681-5f2ae8285f19",
   "metadata": {
    "tags": []
   },
   "outputs": [],
   "source": [
    "def get_pca(FEATS_subspaces):\n",
    "    # get PC subspaces\n",
    "    feats = FEATS_subspaces['layer4']\n",
    "    shape = (1000, num_rand_pairs, 128)\n",
    "    fg_feats = feats[:1000*num_rand_pairs].reshape(shape)\n",
    "    bg_feats = feats[1000*num_rand_pairs:].reshape(shape)\n",
    "    fg_centers = fg_feats.mean(1)\n",
    "    bg_centers = bg_feats.mean(1)\n",
    "\n",
    "    # compute PCA space\n",
    "    pca_fg = PCA() \n",
    "    pca_fg.fit(fg_centers)\n",
    "    pca_bg = PCA() \n",
    "    pca_bg.fit(bg_centers)\n",
    "    return pca_fg, pca_bg\n",
    "    \n",
    "def boost_subspace(feats, pca, boost_factor):\n",
    "    ### compute importance + boost original space\n",
    "    # contribution = np.abs(pca.components_[0])\n",
    "    eigenvectors = pca.components_\n",
    "    eigenvalues = pca.explained_variance_\n",
    "    \n",
    "    contribution = (np.abs(eigenvectors).T * np.sqrt(eigenvalues)).T.sum(0)\n",
    "    \n",
    "    # Normalize the contributions so they sum up to 128\n",
    "    contribution = contribution / np.sum(contribution) * 128\n",
    "    # Scale the original data according to the contribution of each feature in pca\n",
    "    boosted_feats = feats * contribution * boost_factor\n",
    "    \n",
    "    return boosted_feats"
   ]
  },
  {
   "cell_type": "code",
   "execution_count": 65,
   "id": "cb1f46fb-296c-47a9-83d2-71aabd8bd0e5",
   "metadata": {
    "tags": []
   },
   "outputs": [],
   "source": [
    "idx = np.random.randint(100000, size=7500)\n",
    "n_splits = 3"
   ]
  },
  {
   "cell_type": "code",
   "execution_count": null,
   "id": "9ee36b9d-62a6-4393-80b3-6e3a9185e9e6",
   "metadata": {},
   "outputs": [],
   "source": [
    "## get feats subspaces\n",
    "is_normalize = True\n",
    "seed_list = [0, 7, 77, 8, 88, \n",
    "            1, 777, 7777, 888, 8888]\n",
    "\n",
    "# ERM model\n",
    "args.use_two_labels = False\n",
    "args.use_mask = False\n",
    "args.algorithm = _algo = \"ERM\"\n",
    "\n",
    "for _seed in seed_list:\n",
    "   \n",
    "    args.trial_seed = _seed\n",
    "    _exp_name=f\"{args.bias}_ERM_seed{args.trial_seed}\"\n",
    "    args.exp_name = _exp_name\n",
    "    print(_exp_name)\n",
    "    \n",
    "    if args.exp_name not in saved_dict:\n",
    "        saved_dict[args.exp_name] = {}\n",
    "    \n",
    "    start_time = time.time()\n",
    "    # get data/model\n",
    "    eval_names = []\n",
    "    _, model = utils.init_data_model(args, eval_names)\n",
    "    FEATS_subspaces = utils.get_feats(args, model, data_loader_subspaces, [\"layer3\"])\n",
    "    FEATS_OOD1 = utils.get_feats(args, model, data_loader_OOD1, [\"layer3\"])\n",
    "    FEATS_OOD2 = utils.get_feats(args, model, data_loader_OOD2, [\"layer3\"])\n",
    "    \n",
    "    if is_normalize: \n",
    "        from sklearn.preprocessing import StandardScaler\n",
    "        scaler = StandardScaler()\n",
    "        FEATS_subspaces['layer4'] = scaler.fit_transform(FEATS_subspaces['layer4'])\n",
    "        FEATS_OOD1['layer4'] = scaler.fit_transform(FEATS_OOD1['layer4'])\n",
    "        FEATS_OOD2['layer4'] = scaler.fit_transform(FEATS_OOD2['layer4'])\n",
    "    \n",
    "    # get PCA\n",
    "    pca_fg, pca_bg = get_pca(FEATS_subspaces)\n",
    "\n",
    "    # # baselines\n",
    "    print(\"\\nori acc...\")\n",
    "    _acc_ood1 = metrics.cv_test(FEATS_subspaces['layer4'][idx], y_fg_classes_subspaces[idx], n_splits)\n",
    "    _acc_ood2 = metrics.cv_test(FEATS_OOD2['layer4'], y_OOD2_fg, n_splits)\n",
    "    # record\n",
    "    saved_dict[args.exp_name]['ood1_ori'] = _acc_ood1[0]\n",
    "    saved_dict[args.exp_name]['ood2_ori'] = _acc_ood2[0]\n",
    "    \n",
    "    for boost_factor in [1/64, 1/16, 1/4,\n",
    "                         4, 16, 64]:\n",
    "        print(\"==>boost factor\", boost_factor)\n",
    "        \n",
    "        # change original space \n",
    "        print('====>change original space...')\n",
    "        boosted_feats_subspaces = FEATS_subspaces['layer4'] * boost_factor\n",
    "        _acc_ood1 = metrics.cv_test(boosted_feats_subspaces[idx], y_fg_classes_subspaces[idx], n_splits, 1)\n",
    "        boosted_feats_OOD2 = FEATS_OOD2['layer4'] * boost_factor\n",
    "        _acc_ood2 = metrics.cv_test(boosted_feats_OOD2, y_OOD2_fg, n_splits, 1)\n",
    "        saved_dict[args.exp_name][f'norm_method3_ood1_direct_{boost_factor}'] = _acc_ood1[0]\n",
    "        saved_dict[args.exp_name][f'norm_method3_ood2_direct_{boost_factor}'] = _acc_ood2[0]\n",
    "        \n",
    "        # change fg\n",
    "        print('====>change fg subspace...')\n",
    "        boosted_feats_subspaces = boost_subspace(FEATS_subspaces['layer4'], pca_fg, boost_factor)\n",
    "        _acc_ood1 = metrics.cv_test(boosted_feats_subspaces[idx], y_fg_classes_subspaces[idx], n_splits, 1)\n",
    "        boosted_feats_OOD2 = boost_subspace(FEATS_OOD2['layer4'], pca_fg, boost_factor)\n",
    "        _acc_ood2 = metrics.cv_test(boosted_feats_OOD2, y_OOD2_fg, n_splits, 1)\n",
    "        saved_dict[args.exp_name][f'norm_method3_ood1_fg_{boost_factor}'] = _acc_ood1[0]\n",
    "        saved_dict[args.exp_name][f'norm_method3_ood2_fg_{boost_factor}'] = _acc_ood2[0]\n",
    "\n",
    "        # change bg\n",
    "        print('====>change bg subspace...')\n",
    "        boosted_feats_subspaces = boost_subspace(FEATS_subspaces['layer4'], pca_bg, boost_factor)\n",
    "        _acc_ood1 = metrics.cv_test(boosted_feats_subspaces[idx], y_fg_classes_subspaces[idx], n_splits, 1)\n",
    "        boosted_feats_OOD2 = boost_subspace(FEATS_OOD2['layer4'], pca_bg, boost_factor)\n",
    "        _acc_ood2 = metrics.cv_test(boosted_feats_OOD2, y_OOD2_fg, n_splits, 1)\n",
    "        saved_dict[args.exp_name][f'norm_method3_ood1_bg_{boost_factor}'] = _acc_ood1[0]\n",
    "        saved_dict[args.exp_name][f'norm_method3_ood2_bg_{boost_factor}'] = _acc_ood2[0]\n",
    "\n",
    "\n",
    "    print(\"time past: %.4f\\n\" % (time.time()-start_time))"
   ]
  },
  {
   "cell_type": "code",
   "execution_count": 68,
   "id": "7a3e82dd-b69d-4d76-bc1e-4931f15acd0a",
   "metadata": {
    "tags": []
   },
   "outputs": [],
   "source": [
    "# save stuff\n",
    "with open(f'saved_dict_causal_{args.dataset}.pkl', 'wb') as f:\n",
    "    pickle.dump(saved_dict, f)"
   ]
  },
  {
   "cell_type": "markdown",
   "id": "5f35f902-f60d-4cc0-aed8-dfc52b445eba",
   "metadata": {
    "tags": []
   },
   "source": [
    "## plot"
   ]
  },
  {
   "cell_type": "code",
   "execution_count": 59,
   "id": "08fb16a0-199e-4621-bcaa-2cfff90499e4",
   "metadata": {
    "tags": []
   },
   "outputs": [],
   "source": [
    "#  read stuff\n",
    "with open(f'saved_dict_causal_{args.dataset}.pkl', 'rb') as f:\n",
    "    saved_dict = pickle.load(f)"
   ]
  },
  {
   "cell_type": "code",
   "execution_count": null,
   "id": "90d99f32-ee51-472e-b68b-90904752c428",
   "metadata": {},
   "outputs": [],
   "source": [
    "seed_list = [0, 7, 77, 8, 88, \n",
    "            1, 777, 7777, 888, 8888]    \n",
    "    \n",
    "    \n",
    "results_direct_ood1 = np.zeros((7, 10))\n",
    "results_direct_ood2 = np.zeros((7, 10))\n",
    "results_fg_ood1 = np.zeros((7, 10))\n",
    "results_fg_ood2 = np.zeros((7, 10))\n",
    "results_bg_ood1 = np.zeros((7, 10))\n",
    "results_bg_ood2 = np.zeros((7, 10))\n",
    "\n",
    "prefix = 'norm_method3_'\n",
    "\n",
    "for seed_index, _seed in enumerate(seed_list):\n",
    "    _algo = \"ERM\"\n",
    "    _exp_name=f\"{args.bias}_{_algo}_seed{_seed}\"\n",
    "    \n",
    "    for boost_index, boost_factor in enumerate([1/64, 1/16, 1/4, 4, 16, 64]):\n",
    "        if boost_index>=3:\n",
    "            boost_index += 1\n",
    "        \n",
    "        results_direct_ood1[boost_index][seed_index] = saved_dict[_exp_name][f'{prefix}ood1_direct_{boost_factor}']\n",
    "        results_direct_ood2[boost_index][seed_index] = saved_dict[_exp_name][f'{prefix}ood2_direct_{boost_factor}']\n",
    "        \n",
    "        results_fg_ood1[boost_index][seed_index] = saved_dict[_exp_name][f'{prefix}ood1_fg_{boost_factor}']\n",
    "        results_fg_ood2[boost_index][seed_index] = saved_dict[_exp_name][f'{prefix}ood2_fg_{boost_factor}']\n",
    "                                                    \n",
    "        results_bg_ood1[boost_index][seed_index] = saved_dict[_exp_name][f'{prefix}ood1_bg_{boost_factor}']\n",
    "        results_bg_ood2[boost_index][seed_index] = saved_dict[_exp_name][f'{prefix}ood2_bg_{boost_factor}']"
   ]
  },
  {
   "cell_type": "code",
   "execution_count": 27,
   "id": "1f3bda86-9f5f-42c1-a0ce-c23d48a8db7a",
   "metadata": {
    "tags": []
   },
   "outputs": [
    {
     "data": {
      "image/png": "[encoded data removed]",
      "text/plain": [
       "<Figure size 288x432 with 1 Axes>"
      ]
     },
     "metadata": {
      "needs_background": "light"
     },
     "output_type": "display_data"
    }
   ],
   "source": [
    "import matplotlib\n",
    "matplotlib.rcParams.update({'font.size': 15})\n",
    "plt.figure(figsize=(4,6))\n",
    "\n",
    "xx = [\"1/64\", \"1/16\", \"1/4\", \"1\", \"4\", \"16\", \"64\"]\n",
    "\n",
    "dataset_name = f\"{args.dataset}_ChangeBG\" # _ChangeFG, _ChangeBG, _ChangeFullSpace\n",
    "if dataset_name == f\"{args.dataset}_ChangeBG\":\n",
    "    ood1_mean_list, ood1_std_list = (results_fg_ood1-results_direct_ood1).mean(1)*100, (results_fg_ood1-results_direct_ood1).std(1)*100\n",
    "    ood2_mean_list, ood2_std_list = (results_fg_ood2-results_direct_ood2).mean(1)*100, (results_fg_ood2-results_direct_ood2).std(1)*100\n",
    "elif dataset_name == f\"{args.dataset}_ChangeFG\":\n",
    "    ood1_mean_list, ood1_std_list = (results_bg_ood1-results_direct_ood1).mean(1)*100, (results_bg_ood1-results_direct_ood1).std(1)*100\n",
    "    ood2_mean_list, ood2_std_list = (results_bg_ood2-results_direct_ood2).mean(1)*100, (results_bg_ood2-results_direct_ood2).std(1)*100\n",
    "    \n",
    "plt.errorbar(xx, ood1_mean_list, yerr=ood1_std_list, color='blue', label=f'OOD1', alpha=0.5)\n",
    "plt.errorbar(xx, ood2_mean_list, yerr=ood2_std_list, color='red', label=f'OOD2', alpha=0.5)\n",
    "plt.errorbar(xx, (ood1_mean_list+ood2_mean_list)/2, \n",
    "             yerr=(ood1_std_list+ood2_std_list)/2,\n",
    "             color='green', label=f'AvgOOD', alpha=0.5)\n",
    "# plt.legend(bbox_to_anchor=[1,1.2], ncol=3)\n",
    "plt.xlabel(\"Boost Factor\")\n",
    "plt.ylabel(\"Change in\\nOOD Acc\")\n",
    "plt.title(f\"{dataset_name}\")\n",
    "plt.grid(True)\n",
    "plt.savefig(f\"./fig/causal_wt_evid_boost_factor_{dataset_name}.pdf\", format=\"pdf\", dpi=500, bbox_inches = \"tight\")\n",
    "\n",
    "# Displaying the plot\n",
    "plt.show()"
   ]
  },
  {
   "cell_type": "code",
   "execution_count": 53,
   "id": "ad2d13ef-e5f0-4675-9f3e-d33356284204",
   "metadata": {
    "tags": []
   },
   "outputs": [
    {
     "data": {
      "image/png": "[encoded data removed]",
      "text/plain": [
       "<Figure size 432x432 with 1 Axes>"
      ]
     },
     "metadata": {
      "needs_background": "light"
     },
     "output_type": "display_data"
    }
   ],
   "source": [
    "import matplotlib\n",
    "matplotlib.rcParams.update({'font.size': 15})\n",
    "\n",
    "\n",
    "diff_ood1_mean_list = np.array([(results_bg_ood1-results_direct_ood1).mean(1)[0], \n",
    "                                (results_fg_ood1-results_direct_ood1).mean(1)[0]]) * 100\n",
    "diff_ood2_mean_list = np.array([(results_bg_ood2-results_direct_ood2).mean(1)[0], \n",
    "                                (results_fg_ood2-results_direct_ood2).mean(1)[0]]) * 100\n",
    "diff_ood1_std_list = np.array([(results_bg_ood1-results_direct_ood1).std(1)[0], \n",
    "                                (results_fg_ood1-results_direct_ood1).std(1)[0]]) * 100\n",
    "diff_ood2_std_list = np.array([(results_bg_ood2-results_direct_ood2).std(1)[0], \n",
    "                                (results_fg_ood2-results_direct_ood2).std(1)[0]]) * 100\n",
    "# Plotting the bar plots\n",
    "width = 0.3  # Width of the bars\n",
    "x = range(2)  # X-axis range\n",
    "\n",
    "fig, ax = plt.subplots(figsize=(6, 6))\n",
    "rects1 = ax.bar(x, diff_ood1_mean_list, yerr=diff_ood1_std_list,\n",
    "                color='grey', width=width, label='Backgound-Invariance')\n",
    "rects2 = ax.bar([i + width for i in x], diff_ood2_mean_list, yerr=diff_ood2_std_list,\n",
    "                color='darkgreen', width=width, label='Object-Disambiguation')\n",
    "\n",
    "# Adding labels, title, and legend\n",
    "ax.set_ylabel('Change in OOD Acc')\n",
    "# ax.set_title('Significant Effects of Causal Manipulation')\n",
    "ax.set_xticks([i + width / 2 for i in x])\n",
    "ax.set_xticklabels(['Decrease\\nForeground', 'Decrease\\nBackground'])\n",
    "ax.legend(loc='best')\n",
    "ax.axhline(0, color='black', linewidth=0.5)\n",
    "\n",
    "plt.savefig(f\"./fig/causal_wt_evid_new_{args.dataset}_{_algo}.pdf\", format=\"pdf\", dpi=500, bbox_inches = \"tight\")\n",
    "\n",
    "# Displaying the plot\n",
    "plt.show()"
   ]
  }
 ],
 "metadata": {
  "kernelspec": {
   "display_name": "Python 3 (ipykernel)",
   "language": "python",
   "name": "python3"
  },
  "language_info": {
   "codemirror_mode": {
    "name": "ipython",
    "version": 3
   },
   "file_extension": ".py",
   "mimetype": "text/x-python",
   "name": "python",
   "nbconvert_exporter": "python",
   "pygments_lexer": "ipython3",
   "version": "3.7.1"
  },
  "toc-autonumbering": true
 },
 "nbformat": 4,
 "nbformat_minor": 5
}
